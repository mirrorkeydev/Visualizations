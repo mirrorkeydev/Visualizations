{
 "cells": [
  {
   "cell_type": "markdown",
   "metadata": {},
   "source": [
    "# _Are You The One?_ Season One Simulation and Analysis\n",
    "> Melanie Gutzmann ([@mirrorkeydev](https://github.com/mirrorkeydev)) 12/2020\n",
    "\n",
    "## Table of Contents\n",
    "- [Motivation](#Motivation)\n",
    "- [Framework](#Framework)\n",
    "- [Season 1 Episodes](#Season-1-Episodes)\n",
    "- [Analysis](#Analysis)\n",
    "\n",
    "## Motivation\n",
    "_Are You the One?_ (AYTO) is an American reality TV series on MTV. The premise is simple: put 20 people in a house, and tell them if they can correctly figure out all pairs that are \"perfect matches\" (determined beforehand by the producers and a matchmaking algorithm), they all split a prize of $1 million.\n",
    "\n",
    "There are two mechanisms by which the contestants can empirically narrow down their search every week:\n",
    "\n",
    "1. Sending 1 couple to the \"Truth Booth\", which will reveal whether that couple is or isn't a \"perfect match\"\n",
    "2. Sending 10 couples to the \"Matching Ceremony\", which will reveal the number of couples presented that are perfect matches, but not which ones were correct\n",
    "\n",
    "The first season of this show (originally aired 2014), was just put on Netflix, and I (an avid enjoyer of trash TV) noticed that the probability of a given couple being a match could be calculated by simulating all possible match configurations. Of course, since those episodes are over 6 years old at this point, someone (Alex Wang), already did this, and has a [blog](http://areuthe.blogspot.com/) in which he's analyzed all 8 seasons.\n",
    "\n",
    "However, I admittedly don't have the strongest (read: any) knowledge of statistics or simulations, so I didn't completely follow how Alex was generating these probability matrixes in his blog. To help my own understanding, I thought it would be fun to deconstruct exactly how to generate the probabilities of each couple as the first season of AYTO progresses.\n",
    "\n",
    "## Framework\n",
    "\n",
    "In season 1, the house is comprised of 10 men and 10 women, each of which are part of exactly one hetero \"perfect match\". Let's initialize our values, and assign names to help visualize what's going on."
   ]
  },
  {
   "cell_type": "code",
   "execution_count": 1,
   "metadata": {},
   "outputs": [
    {
     "name": "stdout",
     "output_type": "stream",
     "text": [
      "The number of possible match permutations is: 3628800\n"
     ]
    }
   ],
   "source": [
    "import itertools\n",
    "from enum import Enum\n",
    "import math\n",
    "\n",
    "GROUP_COUNT = 10 # Number of people in each group\n",
    "\n",
    "class Men(Enum):\n",
    "    ADAM = 0\n",
    "    CHRIS_S = 1\n",
    "    CHRIS_T = 2\n",
    "    DILLAN = 3\n",
    "    DRE = 4\n",
    "    ETHAN = 5\n",
    "    JOEY = 6\n",
    "    JOHN = 7\n",
    "    RYAN = 8\n",
    "    WESLEY = 9\n",
    "\n",
    "class Women(Enum):\n",
    "    AMBER = 0\n",
    "    ASHLEIGH = 1\n",
    "    BRITTANY = 2\n",
    "    COLEYSIA = 3\n",
    "    JACY = 4\n",
    "    JESSICA = 5\n",
    "    KAYLA = 6\n",
    "    PAIGE = 7\n",
    "    SHANLEY = 8\n",
    "    SIMONE = 9\n",
    "\n",
    "print(\"The number of possible match permutations is: {}\".format(math.factorial(GROUP_COUNT)))\n",
    "\n",
    "perms_over_time = [('Start', math.factorial(GROUP_COUNT))]"
   ]
  },
  {
   "cell_type": "markdown",
   "metadata": {},
   "source": [
    "A permutation represents one possible configuration of all 10 couples; there are over 3 million different ways that the set of 10 couples could be formed. Here's a random sample of a few of those:"
   ]
  },
  {
   "cell_type": "code",
   "execution_count": 2,
   "metadata": {},
   "outputs": [
    {
     "name": "stdout",
     "output_type": "stream",
     "text": [
      "Configuration 0\n",
      "\n",
      "\u001b[96m   AMBER    \u001b[96m  ASHLEIGH  \u001b[96m  BRITTANY  \u001b[96m  COLEYSIA  \u001b[96m    JACY    \u001b[96m  JESSICA   \u001b[96m   KAYLA    \u001b[96m   PAIGE    \u001b[96m  SHANLEY   \u001b[96m   SIMONE   \u001b[0m\n",
      "\u001b[95m   WESLEY   \u001b[95m    RYAN    \u001b[95m    ADAM    \u001b[95m    DRE     \u001b[95m  CHRIS_S   \u001b[95m  CHRIS_T   \u001b[95m   DILLAN   \u001b[95m    JOEY    \u001b[95m   ETHAN    \u001b[95m    JOHN    \u001b[0m\n",
      "\n",
      "Configuration 1\n",
      "\n",
      "\u001b[96m   AMBER    \u001b[96m  ASHLEIGH  \u001b[96m  BRITTANY  \u001b[96m  COLEYSIA  \u001b[96m    JACY    \u001b[96m  JESSICA   \u001b[96m   KAYLA    \u001b[96m   PAIGE    \u001b[96m  SHANLEY   \u001b[96m   SIMONE   \u001b[0m\n",
      "\u001b[95m    JOEY    \u001b[95m   ETHAN    \u001b[95m  CHRIS_T   \u001b[95m    ADAM    \u001b[95m  CHRIS_S   \u001b[95m    DRE     \u001b[95m   WESLEY   \u001b[95m    RYAN    \u001b[95m    JOHN    \u001b[95m   DILLAN   \u001b[0m\n",
      "\n",
      "Configuration 2\n",
      "\n",
      "\u001b[96m   AMBER    \u001b[96m  ASHLEIGH  \u001b[96m  BRITTANY  \u001b[96m  COLEYSIA  \u001b[96m    JACY    \u001b[96m  JESSICA   \u001b[96m   KAYLA    \u001b[96m   PAIGE    \u001b[96m  SHANLEY   \u001b[96m   SIMONE   \u001b[0m\n",
      "\u001b[95m  CHRIS_S   \u001b[95m    JOHN    \u001b[95m   WESLEY   \u001b[95m   DILLAN   \u001b[95m   ETHAN    \u001b[95m  CHRIS_T   \u001b[95m    RYAN    \u001b[95m    JOEY    \u001b[95m    ADAM    \u001b[95m    DRE     \u001b[0m\n",
      "\n",
      "... and 3628797 more of these\n",
      "\n"
     ]
    }
   ],
   "source": [
    "import random\n",
    "\n",
    "men_perms = list(itertools.permutations(range(GROUP_COUNT)))\n",
    "\n",
    "def print_configurations(perms, rows, is_random=True):\n",
    "    num_perms = len(perms)\n",
    "    for i in range(rows):\n",
    "        print(\"Configuration\", i, end=\"\\n\\n\")\n",
    "        for w in Women:\n",
    "            print(\"\\033[96m\" + w.name.center(12), end=\"\")\n",
    "        print(\"\\033[0m\")\n",
    "\n",
    "        perm = men_perms[random.randint(0, len(perms)-1)] if is_random else men_perms[i]\n",
    "        for m in perm:\n",
    "            print(\"\\033[95m\" + Men(m).name.center(12), end=\"\")\n",
    "        print(\"\\033[0m\\n\")\n",
    "    print(\"... and {} more of these\\n\".format(num_perms-rows))\n",
    "\n",
    "    return num_perms\n",
    "\n",
    "num = print_configurations(men_perms, 3)"
   ]
  },
  {
   "cell_type": "markdown",
   "metadata": {},
   "source": [
    "Notice above that the women (cyan) never change position in the list, only the men (purple) are permutated. (We arbitrarily chose the men to be permuted rather than the women. If you permutated both the men and women and joined them all, you'd end up with duplicates.) This is important because it means that in our code, we can essentially only worry about permutations of men, because if a man is at a certain index, it means that he is paired with the woman associated with that index.\n",
    "\n",
    "Now, we can start applying the conditions revealed in each episode.\n",
    "\n",
    "## Season 1 Episodes\n",
    "\n",
    "### Episode 1\n",
    "\n",
    "#### Truth Booth 1\n",
    "\n",
    "In this episode, Shanley and Chris T. are sent to the truth booth and are revealed to not be a match.\n",
    "This means that we can narrow down all permutations of the couples configurations to only contain permutations that don't have Shanley and Chris T matched together.\n"
   ]
  },
  {
   "cell_type": "code",
   "execution_count": 3,
   "metadata": {},
   "outputs": [
    {
     "name": "stdout",
     "output_type": "stream",
     "text": [
      "Configuration 0\n",
      "\n",
      "\u001b[96m   AMBER    \u001b[96m  ASHLEIGH  \u001b[96m  BRITTANY  \u001b[96m  COLEYSIA  \u001b[96m    JACY    \u001b[96m  JESSICA   \u001b[96m   KAYLA    \u001b[96m   PAIGE    \u001b[96m  SHANLEY   \u001b[96m   SIMONE   \u001b[0m\n",
      "\u001b[95m   DILLAN   \u001b[95m    JOHN    \u001b[95m    DRE     \u001b[95m   WESLEY   \u001b[95m   ETHAN    \u001b[95m    RYAN    \u001b[95m    ADAM    \u001b[95m  CHRIS_S   \u001b[95m    JOEY    \u001b[95m  CHRIS_T   \u001b[0m\n",
      "\n",
      "Configuration 1\n",
      "\n",
      "\u001b[96m   AMBER    \u001b[96m  ASHLEIGH  \u001b[96m  BRITTANY  \u001b[96m  COLEYSIA  \u001b[96m    JACY    \u001b[96m  JESSICA   \u001b[96m   KAYLA    \u001b[96m   PAIGE    \u001b[96m  SHANLEY   \u001b[96m   SIMONE   \u001b[0m\n",
      "\u001b[95m    JOHN    \u001b[95m  CHRIS_S   \u001b[95m   DILLAN   \u001b[95m    RYAN    \u001b[95m    JOEY    \u001b[95m  CHRIS_T   \u001b[95m   WESLEY   \u001b[95m    ADAM    \u001b[95m   ETHAN    \u001b[95m    DRE     \u001b[0m\n",
      "\n",
      "Configuration 2\n",
      "\n",
      "\u001b[96m   AMBER    \u001b[96m  ASHLEIGH  \u001b[96m  BRITTANY  \u001b[96m  COLEYSIA  \u001b[96m    JACY    \u001b[96m  JESSICA   \u001b[96m   KAYLA    \u001b[96m   PAIGE    \u001b[96m  SHANLEY   \u001b[96m   SIMONE   \u001b[0m\n",
      "\u001b[95m    ADAM    \u001b[95m   ETHAN    \u001b[95m    DRE     \u001b[95m    JOEY    \u001b[95m  CHRIS_T   \u001b[95m    RYAN    \u001b[95m   WESLEY   \u001b[95m   DILLAN   \u001b[95m    JOHN    \u001b[95m  CHRIS_S   \u001b[0m\n",
      "\n",
      "... and 3265917 more of these\n",
      "\n",
      "The above permutations don't contain Shanley matched with Chris T.\n",
      "We've narrowed down the number of permutations from 3628800 to 3265920, a reduction of 362880 or 11.1%\n"
     ]
    }
   ],
   "source": [
    "# As explained above, women are represented by the index in each permutation array.\n",
    "men_perms = [p for p in men_perms if p[Women.SHANLEY.value] != Men.CHRIS_T.value]\n",
    "\n",
    "new_num = print_configurations(men_perms, 3)\n",
    "\n",
    "perms_over_time.append(('TB1', new_num))\n",
    "\n",
    "print(\"The above permutations don't contain Shanley matched with Chris T.\")\n",
    "print(\"We've narrowed down the number of permutations from {} to {}, a reduction of {} or {:.1f}%\".format(num, new_num, num-new_num, (num-new_num)/(new_num)*100))"
   ]
  },
  {
   "cell_type": "markdown",
   "metadata": {},
   "source": [
    "So how do we calculate the probability of each couple being a perfect match at this point? We simply count how many permutations are left that contain each couple, and then divide each sum by the amount of total permutations."
   ]
  },
  {
   "cell_type": "code",
   "execution_count": 4,
   "metadata": {},
   "outputs": [
    {
     "name": "stdout",
     "output_type": "stream",
     "text": [
      "            \u001b[95m\u001b[1m    ADAM    \u001b[95m\u001b[1m  CHRIS_S   \u001b[95m\u001b[1m  CHRIS_T   \u001b[95m\u001b[1m   DILLAN   \u001b[95m\u001b[1m    DRE     \u001b[95m\u001b[1m   ETHAN    \u001b[95m\u001b[1m    JOEY    \u001b[95m\u001b[1m    JOHN    \u001b[95m\u001b[1m    RYAN    \u001b[95m\u001b[1m   WESLEY   \u001b[0m\n",
      "\u001b[96m\u001b[1m       AMBER\u001b[0m\u001b[0m    9.9%    \u001b[0m\u001b[0m    9.9%    \u001b[0m\u001b[92m   11.1%    \u001b[0m\u001b[0m    9.9%    \u001b[0m\u001b[0m    9.9%    \u001b[0m\u001b[0m    9.9%    \u001b[0m\u001b[0m    9.9%    \u001b[0m\u001b[0m    9.9%    \u001b[0m\u001b[0m    9.9%    \u001b[0m\u001b[0m    9.9%    \u001b[0m\n",
      "\u001b[96m\u001b[1m    ASHLEIGH\u001b[0m\u001b[0m    9.9%    \u001b[0m\u001b[0m    9.9%    \u001b[0m\u001b[92m   11.1%    \u001b[0m\u001b[0m    9.9%    \u001b[0m\u001b[0m    9.9%    \u001b[0m\u001b[0m    9.9%    \u001b[0m\u001b[0m    9.9%    \u001b[0m\u001b[0m    9.9%    \u001b[0m\u001b[0m    9.9%    \u001b[0m\u001b[0m    9.9%    \u001b[0m\n",
      "\u001b[96m\u001b[1m    BRITTANY\u001b[0m\u001b[0m    9.9%    \u001b[0m\u001b[0m    9.9%    \u001b[0m\u001b[92m   11.1%    \u001b[0m\u001b[0m    9.9%    \u001b[0m\u001b[0m    9.9%    \u001b[0m\u001b[0m    9.9%    \u001b[0m\u001b[0m    9.9%    \u001b[0m\u001b[0m    9.9%    \u001b[0m\u001b[0m    9.9%    \u001b[0m\u001b[0m    9.9%    \u001b[0m\n",
      "\u001b[96m\u001b[1m    COLEYSIA\u001b[0m\u001b[0m    9.9%    \u001b[0m\u001b[0m    9.9%    \u001b[0m\u001b[92m   11.1%    \u001b[0m\u001b[0m    9.9%    \u001b[0m\u001b[0m    9.9%    \u001b[0m\u001b[0m    9.9%    \u001b[0m\u001b[0m    9.9%    \u001b[0m\u001b[0m    9.9%    \u001b[0m\u001b[0m    9.9%    \u001b[0m\u001b[0m    9.9%    \u001b[0m\n",
      "\u001b[96m\u001b[1m        JACY\u001b[0m\u001b[0m    9.9%    \u001b[0m\u001b[0m    9.9%    \u001b[0m\u001b[92m   11.1%    \u001b[0m\u001b[0m    9.9%    \u001b[0m\u001b[0m    9.9%    \u001b[0m\u001b[0m    9.9%    \u001b[0m\u001b[0m    9.9%    \u001b[0m\u001b[0m    9.9%    \u001b[0m\u001b[0m    9.9%    \u001b[0m\u001b[0m    9.9%    \u001b[0m\n",
      "\u001b[96m\u001b[1m     JESSICA\u001b[0m\u001b[0m    9.9%    \u001b[0m\u001b[0m    9.9%    \u001b[0m\u001b[92m   11.1%    \u001b[0m\u001b[0m    9.9%    \u001b[0m\u001b[0m    9.9%    \u001b[0m\u001b[0m    9.9%    \u001b[0m\u001b[0m    9.9%    \u001b[0m\u001b[0m    9.9%    \u001b[0m\u001b[0m    9.9%    \u001b[0m\u001b[0m    9.9%    \u001b[0m\n",
      "\u001b[96m\u001b[1m       KAYLA\u001b[0m\u001b[0m    9.9%    \u001b[0m\u001b[0m    9.9%    \u001b[0m\u001b[92m   11.1%    \u001b[0m\u001b[0m    9.9%    \u001b[0m\u001b[0m    9.9%    \u001b[0m\u001b[0m    9.9%    \u001b[0m\u001b[0m    9.9%    \u001b[0m\u001b[0m    9.9%    \u001b[0m\u001b[0m    9.9%    \u001b[0m\u001b[0m    9.9%    \u001b[0m\n",
      "\u001b[96m\u001b[1m       PAIGE\u001b[0m\u001b[0m    9.9%    \u001b[0m\u001b[0m    9.9%    \u001b[0m\u001b[92m   11.1%    \u001b[0m\u001b[0m    9.9%    \u001b[0m\u001b[0m    9.9%    \u001b[0m\u001b[0m    9.9%    \u001b[0m\u001b[0m    9.9%    \u001b[0m\u001b[0m    9.9%    \u001b[0m\u001b[0m    9.9%    \u001b[0m\u001b[0m    9.9%    \u001b[0m\n",
      "\u001b[96m\u001b[1m     SHANLEY\u001b[0m\u001b[92m   11.1%    \u001b[0m\u001b[92m   11.1%    \u001b[0m\u001b[91m     X      \u001b[0m\u001b[92m   11.1%    \u001b[0m\u001b[92m   11.1%    \u001b[0m\u001b[92m   11.1%    \u001b[0m\u001b[92m   11.1%    \u001b[0m\u001b[92m   11.1%    \u001b[0m\u001b[92m   11.1%    \u001b[0m\u001b[92m   11.1%    \u001b[0m\n",
      "\u001b[96m\u001b[1m      SIMONE\u001b[0m\u001b[0m    9.9%    \u001b[0m\u001b[0m    9.9%    \u001b[0m\u001b[92m   11.1%    \u001b[0m\u001b[0m    9.9%    \u001b[0m\u001b[0m    9.9%    \u001b[0m\u001b[0m    9.9%    \u001b[0m\u001b[0m    9.9%    \u001b[0m\u001b[0m    9.9%    \u001b[0m\u001b[0m    9.9%    \u001b[0m\u001b[0m    9.9%    \u001b[0m\n",
      "\n"
     ]
    }
   ],
   "source": [
    "def calculate_probabilities(perms):\n",
    "    pair_sum = [[0 for i in range(GROUP_COUNT)] for j in range(GROUP_COUNT)] # a zeroed two dimensional array\n",
    "\n",
    "    # Do the counting\n",
    "    for perm in perms:\n",
    "        for woman, man in enumerate(perm):\n",
    "            pair_sum[woman][man] += 1\n",
    "\n",
    "    return [[pair / sum(pairs) for pair in pairs] for pairs in pair_sum]\n",
    "\n",
    "def print_probabilities(perms):\n",
    "    probabilities = calculate_probabilities(perms)\n",
    "    print(\"\".center(12), end='')\n",
    "    for m in Men:\n",
    "        print(\"\\033[95m\\033[1m\" + f'{m.name}'.center(12), end='')\n",
    "    print(\"\\033[0m\")\n",
    "    for woman, prob_row in enumerate(probabilities):\n",
    "        print('\\033[96m\\033[1m' + f'{Women(woman).name}'.rjust(12) + '\\033[0m', end='')\n",
    "        for prob_val in prob_row:\n",
    "            if prob_val*100 >= 100:\n",
    "                print(\"\\033[92m\" + 'MATCH'.center(12) + \"\\033[0m\", end='')\n",
    "            elif not prob_val:\n",
    "                print(\"\\033[91m\" + 'X'.center(12) + \"\\033[0m\", end='')\n",
    "            elif prob_val == max(prob_row):\n",
    "                print(\"\\033[92m\" + f'{prob_val*100:2.1f}%'.center(12) + \"\\033[0m\", end='')\n",
    "            elif prob_val*100 > 20:\n",
    "                print(\"\\033[93m\" + f'{prob_val*100:2.1f}%'.center(12) + \"\\033[0m\", end='')\n",
    "            else:\n",
    "                print(\"\\033[0m\" + f'{prob_val*100:2.1f}%'.center(12) + \"\\033[0m\", end='')\n",
    "        print()\n",
    "    print()\n",
    "\n",
    "print_probabilities(men_perms)"
   ]
  },
  {
   "cell_type": "markdown",
   "metadata": {},
   "source": [
    "#### Match Ceremony 1\n",
    "\n",
    "At the end of the week, a Match Ceremony occurs. At this point, all the contestants know is that it's not Christ T. and Shanley, so they pair up pretty randomly.\n",
    "\n",
    "| Men       | Women    |\n",
    "|-----------|----------|\n",
    "| Wesley    | Kayla    |\n",
    "| Ethan     | Shanley  |\n",
    "| Adam      | Brittany |\n",
    "| Dre       | Jacy     |\n",
    "| John      | Simone   |\n",
    "| Chris T.  | Jessica  |\n",
    "| Joey      | Paige    |\n",
    "| Chris S.  | Ashleigh |\n",
    "| Ryan      | Amber    |\n",
    "| Dillan    | Coleysia |\n",
    "\n",
    "The Match Ceremony reveals that two of these couples are correct. So how does that affect the probability of all of the couples?\n",
    "\n",
    "To narrow down our list of permutations, we want to _only select the permutations that contain exactly two couples from the Match Ceremony._\n",
    "\n",
    "\n",
    "\n",
    "> If it's not quite clear why we do this, consider an example:\n",
    ">\n",
    "> Couples `Anya` + `Aaron`, `Brooklyn` + `Brook`, and `Carly` + `Charlie` go to the Match Ceremony, which returns that one of the couples are a perfect match. Our total list of permutations for these couples is:\n",
    ">\n",
    ">| Permutations|\n",
    ">|-------------|\n",
    ">|A+A, B+B, C+C|\n",
    ">|A+A, B+C, C+B|\n",
    ">|A+B, B+A, C+C|\n",
    ">|A+B, B+C, C+A|\n",
    ">|A+C, B+A, C+B|\n",
    ">|A+C, B+B, C+A|\n",
    ">    \n",
    ">Very clearly, we can eliminate permutation 1, since it's what we just tested at the ceremony, and it only returned 1 couple as a perfect match. However, we can also eliminate permutations 4 and 5, since they don't contain a single couple from the set that we sent to the Match Ceremony. It would be impossible for those permutations to be the winning configuration, because one of the couples we just tested has to be a winner.\n",
    ">\n",
    ">| Permutations|\n",
    ">|-------------|\n",
    ">|~~A+A, B+B, C+C~~|\n",
    ">|**A+A**, B+C, C+B|\n",
    ">|A+B, B+A, **C+C**|\n",
    ">|~~A+B, B+C, C+A~~|\n",
    ">|~~A+C, B+A, C+B~~|\n",
    ">|A+C, **B+B**, C+A|\n",
    ">\n",
    ">Each of the remaining permutations contains exactly one couple from the Match Ceremony; through a single ceremony, we were able to reduce the number of permutations by half. Since our example is pretty contrived, we weren't actually able to reduce the probabiity of any single couple (all couples are still equally likely to be correct, just not at the same time), but it's a good example of how you can eliminate combinations of couples: for example, we know now that `Anya` and `Brooklyn` cannot be a couple at the same time as `Brook` and `Charlie` (permutation 4).\n",
    "\n",
    "So let's apply the Match Ceremony's results to our couples:"
   ]
  },
  {
   "cell_type": "code",
   "execution_count": 5,
   "metadata": {},
   "outputs": [
    {
     "name": "stdout",
     "output_type": "stream",
     "text": [
      "            \u001b[95m\u001b[1m    ADAM    \u001b[95m\u001b[1m  CHRIS_S   \u001b[95m\u001b[1m  CHRIS_T   \u001b[95m\u001b[1m   DILLAN   \u001b[95m\u001b[1m    DRE     \u001b[95m\u001b[1m   ETHAN    \u001b[95m\u001b[1m    JOEY    \u001b[95m\u001b[1m    JOHN    \u001b[95m\u001b[1m    RYAN    \u001b[95m\u001b[1m   WESLEY   \u001b[0m\n",
      "\u001b[96m\u001b[1m       AMBER\u001b[0m\u001b[0m    8.9%    \u001b[0m\u001b[0m    8.9%    \u001b[0m\u001b[0m    9.8%    \u001b[0m\u001b[0m    8.9%    \u001b[0m\u001b[0m    8.9%    \u001b[0m\u001b[0m    8.7%    \u001b[0m\u001b[0m    8.9%    \u001b[0m\u001b[0m    8.9%    \u001b[0m\u001b[92m   19.5%    \u001b[0m\u001b[0m    8.9%    \u001b[0m\n",
      "\u001b[96m\u001b[1m    ASHLEIGH\u001b[0m\u001b[0m    8.9%    \u001b[0m\u001b[92m   19.5%    \u001b[0m\u001b[0m    9.8%    \u001b[0m\u001b[0m    8.9%    \u001b[0m\u001b[0m    8.9%    \u001b[0m\u001b[0m    8.7%    \u001b[0m\u001b[0m    8.9%    \u001b[0m\u001b[0m    8.9%    \u001b[0m\u001b[0m    8.9%    \u001b[0m\u001b[0m    8.9%    \u001b[0m\n",
      "\u001b[96m\u001b[1m    BRITTANY\u001b[0m\u001b[92m   19.5%    \u001b[0m\u001b[0m    8.9%    \u001b[0m\u001b[0m    9.8%    \u001b[0m\u001b[0m    8.9%    \u001b[0m\u001b[0m    8.9%    \u001b[0m\u001b[0m    8.7%    \u001b[0m\u001b[0m    8.9%    \u001b[0m\u001b[0m    8.9%    \u001b[0m\u001b[0m    8.9%    \u001b[0m\u001b[0m    8.9%    \u001b[0m\n",
      "\u001b[96m\u001b[1m    COLEYSIA\u001b[0m\u001b[0m    8.9%    \u001b[0m\u001b[0m    8.9%    \u001b[0m\u001b[0m    9.8%    \u001b[0m\u001b[92m   19.5%    \u001b[0m\u001b[0m    8.9%    \u001b[0m\u001b[0m    8.7%    \u001b[0m\u001b[0m    8.9%    \u001b[0m\u001b[0m    8.9%    \u001b[0m\u001b[0m    8.9%    \u001b[0m\u001b[0m    8.9%    \u001b[0m\n",
      "\u001b[96m\u001b[1m        JACY\u001b[0m\u001b[0m    8.9%    \u001b[0m\u001b[0m    8.9%    \u001b[0m\u001b[0m    9.8%    \u001b[0m\u001b[0m    8.9%    \u001b[0m\u001b[92m   19.5%    \u001b[0m\u001b[0m    8.7%    \u001b[0m\u001b[0m    8.9%    \u001b[0m\u001b[0m    8.9%    \u001b[0m\u001b[0m    8.9%    \u001b[0m\u001b[0m    8.9%    \u001b[0m\n",
      "\u001b[96m\u001b[1m     JESSICA\u001b[0m\u001b[0m    8.7%    \u001b[0m\u001b[0m    8.7%    \u001b[0m\u001b[92m   22.0%    \u001b[0m\u001b[0m    8.7%    \u001b[0m\u001b[0m    8.7%    \u001b[0m\u001b[0m    8.5%    \u001b[0m\u001b[0m    8.7%    \u001b[0m\u001b[0m    8.7%    \u001b[0m\u001b[0m    8.7%    \u001b[0m\u001b[0m    8.7%    \u001b[0m\n",
      "\u001b[96m\u001b[1m       KAYLA\u001b[0m\u001b[0m    8.9%    \u001b[0m\u001b[0m    8.9%    \u001b[0m\u001b[0m    9.8%    \u001b[0m\u001b[0m    8.9%    \u001b[0m\u001b[0m    8.9%    \u001b[0m\u001b[0m    8.7%    \u001b[0m\u001b[0m    8.9%    \u001b[0m\u001b[0m    8.9%    \u001b[0m\u001b[0m    8.9%    \u001b[0m\u001b[92m   19.5%    \u001b[0m\n",
      "\u001b[96m\u001b[1m       PAIGE\u001b[0m\u001b[0m    8.9%    \u001b[0m\u001b[0m    8.9%    \u001b[0m\u001b[0m    9.8%    \u001b[0m\u001b[0m    8.9%    \u001b[0m\u001b[0m    8.9%    \u001b[0m\u001b[0m    8.7%    \u001b[0m\u001b[92m   19.5%    \u001b[0m\u001b[0m    8.9%    \u001b[0m\u001b[0m    8.9%    \u001b[0m\u001b[0m    8.9%    \u001b[0m\n",
      "\u001b[96m\u001b[1m     SHANLEY\u001b[0m\u001b[0m    9.8%    \u001b[0m\u001b[0m    9.8%    \u001b[0m\u001b[91m     X      \u001b[0m\u001b[0m    9.8%    \u001b[0m\u001b[0m    9.8%    \u001b[0m\u001b[92m   22.0%    \u001b[0m\u001b[0m    9.8%    \u001b[0m\u001b[0m    9.8%    \u001b[0m\u001b[0m    9.8%    \u001b[0m\u001b[0m    9.8%    \u001b[0m\n",
      "\u001b[96m\u001b[1m      SIMONE\u001b[0m\u001b[0m    8.9%    \u001b[0m\u001b[0m    8.9%    \u001b[0m\u001b[0m    9.8%    \u001b[0m\u001b[0m    8.9%    \u001b[0m\u001b[0m    8.9%    \u001b[0m\u001b[0m    8.7%    \u001b[0m\u001b[0m    8.9%    \u001b[0m\u001b[92m   19.5%    \u001b[0m\u001b[0m    8.9%    \u001b[0m\u001b[0m    8.9%    \u001b[0m\n",
      "\n",
      "We've narrowed down the number of permutations from 3265920 to 608153, a reduction of 2657767 or 437.0%\n"
     ]
    }
   ],
   "source": [
    "# Determines if a given permutation has exactly match_count couples in it\n",
    "# from the matching ceremony.\n",
    "def valid_perm(perm, matches, match_count):   \n",
    "    for permMan, matchMan in zip(perm, matches):\n",
    "        if permMan == matchMan:\n",
    "            match_count -= 1\n",
    "            if match_count < 0:\n",
    "                return False\n",
    "    return match_count == 0\n",
    "\n",
    "# The women are the indexes:         Amber     Ashleigh    Brittany   Coleysia   Jacy     Jessica       Kayla      Paige     Shanley    Simone\n",
    "matches = tuple([x.value for x in (Men.RYAN, Men.CHRIS_S, Men.ADAM, Men.DILLAN, Men.DRE, Men.CHRIS_T, Men.WESLEY, Men.JOEY, Men.ETHAN, Men.JOHN)])\n",
    "correct_match_count = 2\n",
    "\n",
    "men_perms = [p for p in men_perms if valid_perm(p, matches, correct_match_count)]\n",
    "\n",
    "perms_over_time.append(('MC1', len(men_perms)))\n",
    "\n",
    "print_probabilities(men_perms)\n",
    "print(\"We've narrowed down the number of permutations from {} to {}, a reduction of {} or {:.1f}%\".format(new_num, len(men_perms), new_num-len(men_perms), (new_num-len(men_perms))/(len(men_perms))*100))"
   ]
  },
  {
   "cell_type": "markdown",
   "metadata": {},
   "source": [
    "From this, we can see that some couple combinations are now twice as likely to be correct than guessing randomly.\n",
    "\n",
    "### Episode 2\n",
    "#### Truth Booth 2\n",
    "\n",
    "Ethan and Jessica are not a match."
   ]
  },
  {
   "cell_type": "code",
   "execution_count": 6,
   "metadata": {},
   "outputs": [
    {
     "name": "stdout",
     "output_type": "stream",
     "text": [
      "            \u001b[95m\u001b[1m    ADAM    \u001b[95m\u001b[1m  CHRIS_S   \u001b[95m\u001b[1m  CHRIS_T   \u001b[95m\u001b[1m   DILLAN   \u001b[95m\u001b[1m    DRE     \u001b[95m\u001b[1m   ETHAN    \u001b[95m\u001b[1m    JOEY    \u001b[95m\u001b[1m    JOHN    \u001b[95m\u001b[1m    RYAN    \u001b[95m\u001b[1m   WESLEY   \u001b[0m\n",
      "\u001b[96m\u001b[1m       AMBER\u001b[0m\u001b[0m    8.9%    \u001b[0m\u001b[0m    8.9%    \u001b[0m\u001b[0m    9.5%    \u001b[0m\u001b[0m    8.9%    \u001b[0m\u001b[0m    8.9%    \u001b[0m\u001b[0m    9.5%    \u001b[0m\u001b[0m    8.9%    \u001b[0m\u001b[0m    8.9%    \u001b[0m\u001b[92m   19.0%    \u001b[0m\u001b[0m    8.9%    \u001b[0m\n",
      "\u001b[96m\u001b[1m    ASHLEIGH\u001b[0m\u001b[0m    8.9%    \u001b[0m\u001b[92m   19.0%    \u001b[0m\u001b[0m    9.5%    \u001b[0m\u001b[0m    8.9%    \u001b[0m\u001b[0m    8.9%    \u001b[0m\u001b[0m    9.5%    \u001b[0m\u001b[0m    8.9%    \u001b[0m\u001b[0m    8.9%    \u001b[0m\u001b[0m    8.9%    \u001b[0m\u001b[0m    8.9%    \u001b[0m\n",
      "\u001b[96m\u001b[1m    BRITTANY\u001b[0m\u001b[92m   19.0%    \u001b[0m\u001b[0m    8.9%    \u001b[0m\u001b[0m    9.5%    \u001b[0m\u001b[0m    8.9%    \u001b[0m\u001b[0m    8.9%    \u001b[0m\u001b[0m    9.5%    \u001b[0m\u001b[0m    8.9%    \u001b[0m\u001b[0m    8.9%    \u001b[0m\u001b[0m    8.9%    \u001b[0m\u001b[0m    8.9%    \u001b[0m\n",
      "\u001b[96m\u001b[1m    COLEYSIA\u001b[0m\u001b[0m    8.9%    \u001b[0m\u001b[0m    8.9%    \u001b[0m\u001b[0m    9.5%    \u001b[0m\u001b[92m   19.0%    \u001b[0m\u001b[0m    8.9%    \u001b[0m\u001b[0m    9.5%    \u001b[0m\u001b[0m    8.9%    \u001b[0m\u001b[0m    8.9%    \u001b[0m\u001b[0m    8.9%    \u001b[0m\u001b[0m    8.9%    \u001b[0m\n",
      "\u001b[96m\u001b[1m        JACY\u001b[0m\u001b[0m    8.9%    \u001b[0m\u001b[0m    8.9%    \u001b[0m\u001b[0m    9.5%    \u001b[0m\u001b[0m    8.9%    \u001b[0m\u001b[92m   19.0%    \u001b[0m\u001b[0m    9.5%    \u001b[0m\u001b[0m    8.9%    \u001b[0m\u001b[0m    8.9%    \u001b[0m\u001b[0m    8.9%    \u001b[0m\u001b[0m    8.9%    \u001b[0m\n",
      "\u001b[96m\u001b[1m     JESSICA\u001b[0m\u001b[0m    9.5%    \u001b[0m\u001b[0m    9.5%    \u001b[0m\u001b[92m   24.0%    \u001b[0m\u001b[0m    9.5%    \u001b[0m\u001b[0m    9.5%    \u001b[0m\u001b[91m     X      \u001b[0m\u001b[0m    9.5%    \u001b[0m\u001b[0m    9.5%    \u001b[0m\u001b[0m    9.5%    \u001b[0m\u001b[0m    9.5%    \u001b[0m\n",
      "\u001b[96m\u001b[1m       KAYLA\u001b[0m\u001b[0m    8.9%    \u001b[0m\u001b[0m    8.9%    \u001b[0m\u001b[0m    9.5%    \u001b[0m\u001b[0m    8.9%    \u001b[0m\u001b[0m    8.9%    \u001b[0m\u001b[0m    9.5%    \u001b[0m\u001b[0m    8.9%    \u001b[0m\u001b[0m    8.9%    \u001b[0m\u001b[0m    8.9%    \u001b[0m\u001b[92m   19.0%    \u001b[0m\n",
      "\u001b[96m\u001b[1m       PAIGE\u001b[0m\u001b[0m    8.9%    \u001b[0m\u001b[0m    8.9%    \u001b[0m\u001b[0m    9.5%    \u001b[0m\u001b[0m    8.9%    \u001b[0m\u001b[0m    8.9%    \u001b[0m\u001b[0m    9.5%    \u001b[0m\u001b[92m   19.0%    \u001b[0m\u001b[0m    8.9%    \u001b[0m\u001b[0m    8.9%    \u001b[0m\u001b[0m    8.9%    \u001b[0m\n",
      "\u001b[96m\u001b[1m     SHANLEY\u001b[0m\u001b[0m    9.5%    \u001b[0m\u001b[0m    9.5%    \u001b[0m\u001b[91m     X      \u001b[0m\u001b[0m    9.5%    \u001b[0m\u001b[0m    9.5%    \u001b[0m\u001b[92m   24.0%    \u001b[0m\u001b[0m    9.5%    \u001b[0m\u001b[0m    9.5%    \u001b[0m\u001b[0m    9.5%    \u001b[0m\u001b[0m    9.5%    \u001b[0m\n",
      "\u001b[96m\u001b[1m      SIMONE\u001b[0m\u001b[0m    8.9%    \u001b[0m\u001b[0m    8.9%    \u001b[0m\u001b[0m    9.5%    \u001b[0m\u001b[0m    8.9%    \u001b[0m\u001b[0m    8.9%    \u001b[0m\u001b[0m    9.5%    \u001b[0m\u001b[0m    8.9%    \u001b[0m\u001b[92m   19.0%    \u001b[0m\u001b[0m    8.9%    \u001b[0m\u001b[0m    8.9%    \u001b[0m\n",
      "\n",
      "Number of permutations left: 556241\n"
     ]
    }
   ],
   "source": [
    "men_perms = [p for p in men_perms if p[Women.JESSICA.value] != Men.ETHAN.value]\n",
    "\n",
    "print_probabilities(men_perms)\n",
    "perms_over_time.append(('TB2', len(men_perms)))\n",
    "print(f\"Number of permutations left: {len(men_perms)}\")"
   ]
  },
  {
   "cell_type": "markdown",
   "metadata": {},
   "source": [
    "#### Match Ceremony 2\n",
    "\n",
    "| Men       | Women    |\n",
    "|-----------|----------|\n",
    "| Wesley    | Coleysia |\n",
    "| Ethan     | Amber    |\n",
    "| Adam      | Shanley  |\n",
    "| Dre       | Ashleigh |\n",
    "| John      | Jacy     |\n",
    "| Christ T. | Paige    |\n",
    "| Joey      | Brittany |\n",
    "| Chris S.  | Simone   |\n",
    "| Ryan      | Kayla    |\n",
    "| Dillan    | Jessica  |\n",
    "\n",
    "4 couples are correct.\n"
   ]
  },
  {
   "cell_type": "code",
   "execution_count": 7,
   "metadata": {},
   "outputs": [
    {
     "name": "stdout",
     "output_type": "stream",
     "text": [
      "            \u001b[95m\u001b[1m    ADAM    \u001b[95m\u001b[1m  CHRIS_S   \u001b[95m\u001b[1m  CHRIS_T   \u001b[95m\u001b[1m   DILLAN   \u001b[95m\u001b[1m    DRE     \u001b[95m\u001b[1m   ETHAN    \u001b[95m\u001b[1m    JOEY    \u001b[95m\u001b[1m    JOHN    \u001b[95m\u001b[1m    RYAN    \u001b[95m\u001b[1m   WESLEY   \u001b[0m\n",
      "\u001b[96m\u001b[1m       AMBER\u001b[0m\u001b[0m    5.2%    \u001b[0m\u001b[0m    5.0%    \u001b[0m\u001b[0m    5.1%    \u001b[0m\u001b[0m    4.6%    \u001b[0m\u001b[0m    5.0%    \u001b[0m\u001b[92m   40.9%    \u001b[0m\u001b[0m    5.2%    \u001b[0m\u001b[0m    5.0%    \u001b[0m\u001b[0m   19.0%    \u001b[0m\u001b[0m    5.1%    \u001b[0m\n",
      "\u001b[96m\u001b[1m    ASHLEIGH\u001b[0m\u001b[0m    4.9%    \u001b[0m\u001b[93m   20.0%    \u001b[0m\u001b[0m    5.2%    \u001b[0m\u001b[0m    5.0%    \u001b[0m\u001b[92m   39.1%    \u001b[0m\u001b[0m    5.2%    \u001b[0m\u001b[0m    5.0%    \u001b[0m\u001b[0m    5.4%    \u001b[0m\u001b[0m    5.1%    \u001b[0m\u001b[0m    5.0%    \u001b[0m\n",
      "\u001b[96m\u001b[1m    BRITTANY\u001b[0m\u001b[0m   18.9%    \u001b[0m\u001b[0m    5.0%    \u001b[0m\u001b[0m    5.4%    \u001b[0m\u001b[0m    5.2%    \u001b[0m\u001b[0m    5.0%    \u001b[0m\u001b[0m    5.4%    \u001b[0m\u001b[92m   39.9%    \u001b[0m\u001b[0m    5.0%    \u001b[0m\u001b[0m    5.1%    \u001b[0m\u001b[0m    5.2%    \u001b[0m\n",
      "\u001b[96m\u001b[1m    COLEYSIA\u001b[0m\u001b[0m    5.1%    \u001b[0m\u001b[0m    5.1%    \u001b[0m\u001b[0m    5.5%    \u001b[0m\u001b[0m   19.0%    \u001b[0m\u001b[0m    5.1%    \u001b[0m\u001b[0m    5.5%    \u001b[0m\u001b[0m    5.1%    \u001b[0m\u001b[0m    5.1%    \u001b[0m\u001b[0m    5.2%    \u001b[0m\u001b[92m   39.3%    \u001b[0m\n",
      "\u001b[96m\u001b[1m        JACY\u001b[0m\u001b[0m    4.9%    \u001b[0m\u001b[0m    5.4%    \u001b[0m\u001b[0m    5.2%    \u001b[0m\u001b[0m    5.0%    \u001b[0m\u001b[93m   20.0%    \u001b[0m\u001b[0m    5.2%    \u001b[0m\u001b[0m    5.0%    \u001b[0m\u001b[92m   39.1%    \u001b[0m\u001b[0m    5.1%    \u001b[0m\u001b[0m    5.0%    \u001b[0m\n",
      "\u001b[96m\u001b[1m     JESSICA\u001b[0m\u001b[0m    4.9%    \u001b[0m\u001b[0m    5.2%    \u001b[0m\u001b[93m   22.2%    \u001b[0m\u001b[92m   40.9%    \u001b[0m\u001b[0m    5.2%    \u001b[0m\u001b[91m     X      \u001b[0m\u001b[0m    5.4%    \u001b[0m\u001b[0m    5.2%    \u001b[0m\u001b[0m    5.5%    \u001b[0m\u001b[0m    5.3%    \u001b[0m\n",
      "\u001b[96m\u001b[1m       KAYLA\u001b[0m\u001b[0m    5.1%    \u001b[0m\u001b[0m    5.0%    \u001b[0m\u001b[0m    5.1%    \u001b[0m\u001b[0m    5.1%    \u001b[0m\u001b[0m    5.0%    \u001b[0m\u001b[0m    5.3%    \u001b[0m\u001b[0m    5.2%    \u001b[0m\u001b[0m    5.0%    \u001b[0m\u001b[92m   39.3%    \u001b[0m\u001b[0m   19.8%    \u001b[0m\n",
      "\u001b[96m\u001b[1m       PAIGE\u001b[0m\u001b[0m    4.9%    \u001b[0m\u001b[0m    4.9%    \u001b[0m\u001b[92m   41.2%    \u001b[0m\u001b[0m    5.2%    \u001b[0m\u001b[0m    4.9%    \u001b[0m\u001b[0m    4.9%    \u001b[0m\u001b[0m   18.9%    \u001b[0m\u001b[0m    4.9%    \u001b[0m\u001b[0m    5.1%    \u001b[0m\u001b[0m    5.1%    \u001b[0m\n",
      "\u001b[96m\u001b[1m     SHANLEY\u001b[0m\u001b[92m   41.2%    \u001b[0m\u001b[0m    5.2%    \u001b[0m\u001b[91m     X      \u001b[0m\u001b[0m    5.1%    \u001b[0m\u001b[0m    5.2%    \u001b[0m\u001b[93m   22.2%    \u001b[0m\u001b[0m    5.4%    \u001b[0m\u001b[0m    5.2%    \u001b[0m\u001b[0m    5.5%    \u001b[0m\u001b[0m    5.1%    \u001b[0m\n",
      "\u001b[96m\u001b[1m      SIMONE\u001b[0m\u001b[0m    4.9%    \u001b[0m\u001b[92m   39.1%    \u001b[0m\u001b[0m    5.2%    \u001b[0m\u001b[0m    5.0%    \u001b[0m\u001b[0m    5.4%    \u001b[0m\u001b[0m    5.2%    \u001b[0m\u001b[0m    5.0%    \u001b[0m\u001b[93m   20.0%    \u001b[0m\u001b[0m    5.1%    \u001b[0m\u001b[0m    5.0%    \u001b[0m\n",
      "\n",
      "Number of permutations left: 5773\n"
     ]
    }
   ],
   "source": [
    "# The women are the indexes:         Amber   Ashleigh  Brittany  Coleysia       Jacy     Jessica     Kayla      Paige     Shanley     Simone\n",
    "matches = tuple([x.value for x in (Men.ETHAN, Men.DRE, Men.JOEY, Men.WESLEY, Men.JOHN, Men.DILLAN, Men.RYAN, Men.CHRIS_T, Men.ADAM, Men.CHRIS_S)])\n",
    "correct_match_count = 4\n",
    "\n",
    "men_perms = [p for p in men_perms if valid_perm(p, matches, correct_match_count)]\n",
    "\n",
    "print_probabilities(men_perms)\n",
    "perms_over_time.append(('MC2', len(men_perms)))\n",
    "print(f\"Number of permutations left: {len(men_perms)}\")"
   ]
  },
  {
   "cell_type": "markdown",
   "metadata": {},
   "source": [
    "### Episode 3\n",
    "#### Truth Booth 3\n",
    "\n",
    "John and Simone are not a match."
   ]
  },
  {
   "cell_type": "code",
   "execution_count": 8,
   "metadata": {},
   "outputs": [
    {
     "name": "stdout",
     "output_type": "stream",
     "text": [
      "            \u001b[95m\u001b[1m    ADAM    \u001b[95m\u001b[1m  CHRIS_S   \u001b[95m\u001b[1m  CHRIS_T   \u001b[95m\u001b[1m   DILLAN   \u001b[95m\u001b[1m    DRE     \u001b[95m\u001b[1m   ETHAN    \u001b[95m\u001b[1m    JOEY    \u001b[95m\u001b[1m    JOHN    \u001b[95m\u001b[1m    RYAN    \u001b[95m\u001b[1m   WESLEY   \u001b[0m\n",
      "\u001b[96m\u001b[1m       AMBER\u001b[0m\u001b[0m    5.3%    \u001b[0m\u001b[0m    3.9%    \u001b[0m\u001b[0m    5.1%    \u001b[0m\u001b[0m    4.6%    \u001b[0m\u001b[0m    5.0%    \u001b[0m\u001b[92m   38.2%    \u001b[0m\u001b[0m    5.1%    \u001b[0m\u001b[0m    6.2%    \u001b[0m\u001b[93m   21.5%    \u001b[0m\u001b[0m    5.1%    \u001b[0m\n",
      "\u001b[96m\u001b[1m    ASHLEIGH\u001b[0m\u001b[0m    4.9%    \u001b[0m\u001b[93m   20.9%    \u001b[0m\u001b[0m    5.1%    \u001b[0m\u001b[0m    5.0%    \u001b[0m\u001b[92m   37.1%    \u001b[0m\u001b[0m    5.2%    \u001b[0m\u001b[0m    5.0%    \u001b[0m\u001b[0m    6.8%    \u001b[0m\u001b[0m    5.1%    \u001b[0m\u001b[0m    5.0%    \u001b[0m\n",
      "\u001b[96m\u001b[1m    BRITTANY\u001b[0m\u001b[93m   21.4%    \u001b[0m\u001b[0m    3.9%    \u001b[0m\u001b[0m    5.4%    \u001b[0m\u001b[0m    5.1%    \u001b[0m\u001b[0m    5.0%    \u001b[0m\u001b[0m    5.4%    \u001b[0m\u001b[92m   37.6%    \u001b[0m\u001b[0m    6.3%    \u001b[0m\u001b[0m    4.9%    \u001b[0m\u001b[0m    5.0%    \u001b[0m\n",
      "\u001b[96m\u001b[1m    COLEYSIA\u001b[0m\u001b[0m    5.1%    \u001b[0m\u001b[0m    3.9%    \u001b[0m\u001b[0m    5.5%    \u001b[0m\u001b[93m   21.5%    \u001b[0m\u001b[0m    5.1%    \u001b[0m\u001b[0m    5.4%    \u001b[0m\u001b[0m    4.9%    \u001b[0m\u001b[0m    6.4%    \u001b[0m\u001b[0m    5.2%    \u001b[0m\u001b[92m   37.0%    \u001b[0m\n",
      "\u001b[96m\u001b[1m        JACY\u001b[0m\u001b[0m    3.9%    \u001b[0m\u001b[0m    2.9%    \u001b[0m\u001b[0m    4.0%    \u001b[0m\u001b[0m    3.9%    \u001b[0m\u001b[93m   20.9%    \u001b[0m\u001b[0m    4.0%    \u001b[0m\u001b[0m    3.9%    \u001b[0m\u001b[92m   48.9%    \u001b[0m\u001b[0m    3.9%    \u001b[0m\u001b[0m    3.9%    \u001b[0m\n",
      "\u001b[96m\u001b[1m     JESSICA\u001b[0m\u001b[0m    4.8%    \u001b[0m\u001b[0m    4.0%    \u001b[0m\u001b[93m   25.0%    \u001b[0m\u001b[92m   38.2%    \u001b[0m\u001b[0m    5.2%    \u001b[0m\u001b[91m     X      \u001b[0m\u001b[0m    5.4%    \u001b[0m\u001b[0m    6.6%    \u001b[0m\u001b[0m    5.4%    \u001b[0m\u001b[0m    5.3%    \u001b[0m\n",
      "\u001b[96m\u001b[1m       KAYLA\u001b[0m\u001b[0m    5.1%    \u001b[0m\u001b[0m    3.9%    \u001b[0m\u001b[0m    5.0%    \u001b[0m\u001b[0m    5.1%    \u001b[0m\u001b[0m    5.0%    \u001b[0m\u001b[0m    5.3%    \u001b[0m\u001b[0m    5.0%    \u001b[0m\u001b[0m    6.3%    \u001b[0m\u001b[92m   37.0%    \u001b[0m\u001b[93m   22.3%    \u001b[0m\n",
      "\u001b[96m\u001b[1m       PAIGE\u001b[0m\u001b[0m    5.0%    \u001b[0m\u001b[0m    3.9%    \u001b[0m\u001b[92m   38.4%    \u001b[0m\u001b[0m    5.3%    \u001b[0m\u001b[0m    4.9%    \u001b[0m\u001b[0m    4.8%    \u001b[0m\u001b[93m   21.4%    \u001b[0m\u001b[0m    6.1%    \u001b[0m\u001b[0m    5.1%    \u001b[0m\u001b[0m    5.1%    \u001b[0m\n",
      "\u001b[96m\u001b[1m     SHANLEY\u001b[0m\u001b[92m   38.4%    \u001b[0m\u001b[0m    4.0%    \u001b[0m\u001b[91m     X      \u001b[0m\u001b[0m    5.1%    \u001b[0m\u001b[0m    5.1%    \u001b[0m\u001b[93m   25.0%    \u001b[0m\u001b[0m    5.4%    \u001b[0m\u001b[0m    6.5%    \u001b[0m\u001b[0m    5.5%    \u001b[0m\u001b[0m    5.0%    \u001b[0m\n",
      "\u001b[96m\u001b[1m      SIMONE\u001b[0m\u001b[0m    6.1%    \u001b[0m\u001b[92m   48.9%    \u001b[0m\u001b[0m    6.5%    \u001b[0m\u001b[0m    6.2%    \u001b[0m\u001b[0m    6.8%    \u001b[0m\u001b[0m    6.6%    \u001b[0m\u001b[0m    6.3%    \u001b[0m\u001b[91m     X      \u001b[0m\u001b[0m    6.4%    \u001b[0m\u001b[0m    6.3%    \u001b[0m\n",
      "\n",
      "Number of permutations left: 4617\n"
     ]
    }
   ],
   "source": [
    "men_perms = [p for p in men_perms if p[Women.SIMONE.value] != Men.JOHN.value]\n",
    "\n",
    "print_probabilities(men_perms)\n",
    "perms_over_time.append(('TB3', len(men_perms)))\n",
    "print(f\"Number of permutations left: {len(men_perms)}\")"
   ]
  },
  {
   "cell_type": "markdown",
   "metadata": {},
   "source": [
    "#### Match Ceremony 3\n"
   ]
  },
  {
   "cell_type": "code",
   "execution_count": 9,
   "metadata": {},
   "outputs": [
    {
     "name": "stdout",
     "output_type": "stream",
     "text": [
      "            \u001b[95m\u001b[1m    ADAM    \u001b[95m\u001b[1m  CHRIS_S   \u001b[95m\u001b[1m  CHRIS_T   \u001b[95m\u001b[1m   DILLAN   \u001b[95m\u001b[1m    DRE     \u001b[95m\u001b[1m   ETHAN    \u001b[95m\u001b[1m    JOEY    \u001b[95m\u001b[1m    JOHN    \u001b[95m\u001b[1m    RYAN    \u001b[95m\u001b[1m   WESLEY   \u001b[0m\n",
      "\u001b[96m\u001b[1m       AMBER\u001b[0m\u001b[0m    4.8%    \u001b[0m\u001b[0m    4.8%    \u001b[0m\u001b[0m    4.9%    \u001b[0m\u001b[0m    4.1%    \u001b[0m\u001b[0m    4.5%    \u001b[0m\u001b[92m   44.0%    \u001b[0m\u001b[0m    6.0%    \u001b[0m\u001b[0m    5.7%    \u001b[0m\u001b[0m   14.3%    \u001b[0m\u001b[0m    7.0%    \u001b[0m\n",
      "\u001b[96m\u001b[1m    ASHLEIGH\u001b[0m\u001b[0m    3.7%    \u001b[0m\u001b[0m   19.6%    \u001b[0m\u001b[0m    5.3%    \u001b[0m\u001b[0m    4.4%    \u001b[0m\u001b[92m   41.1%    \u001b[0m\u001b[0m    3.7%    \u001b[0m\u001b[0m    5.4%    \u001b[0m\u001b[0m    6.4%    \u001b[0m\u001b[0m    4.9%    \u001b[0m\u001b[0m    5.5%    \u001b[0m\n",
      "\u001b[96m\u001b[1m    BRITTANY\u001b[0m\u001b[93m   25.3%    \u001b[0m\u001b[0m    4.2%    \u001b[0m\u001b[0m    5.0%    \u001b[0m\u001b[0m    6.0%    \u001b[0m\u001b[0m    4.2%    \u001b[0m\u001b[0m    5.4%    \u001b[0m\u001b[92m   33.4%    \u001b[0m\u001b[0m    6.2%    \u001b[0m\u001b[0m    4.8%    \u001b[0m\u001b[0m    5.6%    \u001b[0m\n",
      "\u001b[96m\u001b[1m    COLEYSIA\u001b[0m\u001b[0m    5.8%    \u001b[0m\u001b[0m    4.5%    \u001b[0m\u001b[0m    4.7%    \u001b[0m\u001b[93m   25.7%    \u001b[0m\u001b[0m    4.2%    \u001b[0m\u001b[0m    4.5%    \u001b[0m\u001b[0m    5.4%    \u001b[0m\u001b[0m    5.4%    \u001b[0m\u001b[0m    4.7%    \u001b[0m\u001b[92m   35.2%    \u001b[0m\n",
      "\u001b[96m\u001b[1m        JACY\u001b[0m\u001b[0m    3.9%    \u001b[0m\u001b[0m    3.0%    \u001b[0m\u001b[0m    3.2%    \u001b[0m\u001b[0m    4.6%    \u001b[0m\u001b[0m   19.4%    \u001b[0m\u001b[0m    4.4%    \u001b[0m\u001b[0m    3.9%    \u001b[0m\u001b[92m   51.4%    \u001b[0m\u001b[0m    4.3%    \u001b[0m\u001b[0m    1.9%    \u001b[0m\n",
      "\u001b[96m\u001b[1m     JESSICA\u001b[0m\u001b[0m    4.6%    \u001b[0m\u001b[0m    4.2%    \u001b[0m\u001b[93m   26.7%    \u001b[0m\u001b[92m   32.1%    \u001b[0m\u001b[0m    6.0%    \u001b[0m\u001b[91m     X      \u001b[0m\u001b[0m    6.1%    \u001b[0m\u001b[0m    6.6%    \u001b[0m\u001b[0m    6.6%    \u001b[0m\u001b[0m    7.0%    \u001b[0m\n",
      "\u001b[96m\u001b[1m       KAYLA\u001b[0m\u001b[0m    4.6%    \u001b[0m\u001b[0m    4.1%    \u001b[0m\u001b[0m    5.0%    \u001b[0m\u001b[0m    4.4%    \u001b[0m\u001b[0m    3.5%    \u001b[0m\u001b[0m    4.3%    \u001b[0m\u001b[0m    6.0%    \u001b[0m\u001b[0m    6.3%    \u001b[0m\u001b[92m   41.4%    \u001b[0m\u001b[93m   20.5%    \u001b[0m\n",
      "\u001b[96m\u001b[1m       PAIGE\u001b[0m\u001b[0m    4.9%    \u001b[0m\u001b[0m    3.5%    \u001b[0m\u001b[92m   37.6%    \u001b[0m\u001b[0m    5.4%    \u001b[0m\u001b[0m    4.8%    \u001b[0m\u001b[0m    4.0%    \u001b[0m\u001b[93m   24.8%    \u001b[0m\u001b[0m    5.4%    \u001b[0m\u001b[0m    4.7%    \u001b[0m\u001b[0m    4.9%    \u001b[0m\n",
      "\u001b[96m\u001b[1m     SHANLEY\u001b[0m\u001b[92m   36.0%    \u001b[0m\u001b[0m    4.3%    \u001b[0m\u001b[91m     X      \u001b[0m\u001b[0m    6.3%    \u001b[0m\u001b[0m    6.2%    \u001b[0m\u001b[93m   23.6%    \u001b[0m\u001b[0m    2.9%    \u001b[0m\u001b[0m    6.7%    \u001b[0m\u001b[0m    7.6%    \u001b[0m\u001b[0m    6.3%    \u001b[0m\n",
      "\u001b[96m\u001b[1m      SIMONE\u001b[0m\u001b[0m    6.3%    \u001b[0m\u001b[92m   47.8%    \u001b[0m\u001b[0m    7.6%    \u001b[0m\u001b[0m    7.2%    \u001b[0m\u001b[0m    6.2%    \u001b[0m\u001b[0m    6.0%    \u001b[0m\u001b[0m    6.1%    \u001b[0m\u001b[91m     X      \u001b[0m\u001b[0m    6.7%    \u001b[0m\u001b[0m    6.0%    \u001b[0m\n",
      "\n",
      "Number of permutations left: 1324\n"
     ]
    }
   ],
   "source": [
    "# The women are the indexes:         Amber   Ashleigh  Brittany  Coleysia       Jacy     Jessica     Kayla      Paige     Shanley     Simone\n",
    "matches = tuple([x.value for x in (Men.ETHAN, Men.DRE, Men.ADAM, Men.DILLAN, Men.WESLEY, Men.JOHN, Men.RYAN, Men.CHRIS_S, Men.JOEY, Men.CHRIS_T)])\n",
    "correct_match_count = 2\n",
    "\n",
    "men_perms = [p for p in men_perms if valid_perm(p, matches, correct_match_count)]\n",
    "\n",
    "print_probabilities(men_perms)\n",
    "perms_over_time.append(('MC3', len(men_perms)))\n",
    "print(f\"Number of permutations left: {len(men_perms)}\")"
   ]
  },
  {
   "cell_type": "markdown",
   "metadata": {},
   "source": [
    "### Episode 4\n",
    "#### Truth Booth 4\n",
    "\n",
    "Dillan and Jessica are not a match.\n"
   ]
  },
  {
   "cell_type": "code",
   "execution_count": 10,
   "metadata": {},
   "outputs": [
    {
     "name": "stdout",
     "output_type": "stream",
     "text": [
      "            \u001b[95m\u001b[1m    ADAM    \u001b[95m\u001b[1m  CHRIS_S   \u001b[95m\u001b[1m  CHRIS_T   \u001b[95m\u001b[1m   DILLAN   \u001b[95m\u001b[1m    DRE     \u001b[95m\u001b[1m   ETHAN    \u001b[95m\u001b[1m    JOEY    \u001b[95m\u001b[1m    JOHN    \u001b[95m\u001b[1m    RYAN    \u001b[95m\u001b[1m   WESLEY   \u001b[0m\n",
      "\u001b[96m\u001b[1m       AMBER\u001b[0m\u001b[0m    5.8%    \u001b[0m\u001b[0m    4.0%    \u001b[0m\u001b[0m    4.3%    \u001b[0m\u001b[0m    6.0%    \u001b[0m\u001b[0m    3.7%    \u001b[0m\u001b[92m   47.4%    \u001b[0m\u001b[0m    5.6%    \u001b[0m\u001b[0m    4.6%    \u001b[0m\u001b[0m   11.8%    \u001b[0m\u001b[0m    6.9%    \u001b[0m\n",
      "\u001b[96m\u001b[1m    ASHLEIGH\u001b[0m\u001b[0m    4.4%    \u001b[0m\u001b[0m   17.5%    \u001b[0m\u001b[0m    4.1%    \u001b[0m\u001b[0m    6.5%    \u001b[0m\u001b[92m   42.2%    \u001b[0m\u001b[0m    3.4%    \u001b[0m\u001b[0m    5.0%    \u001b[0m\u001b[0m    6.1%    \u001b[0m\u001b[0m    4.8%    \u001b[0m\u001b[0m    6.0%    \u001b[0m\n",
      "\u001b[96m\u001b[1m    BRITTANY\u001b[0m\u001b[0m   13.2%    \u001b[0m\u001b[0m    4.1%    \u001b[0m\u001b[0m    3.8%    \u001b[0m\u001b[0m    8.8%    \u001b[0m\u001b[0m    4.8%    \u001b[0m\u001b[0m    6.5%    \u001b[0m\u001b[92m   41.9%    \u001b[0m\u001b[0m    5.2%    \u001b[0m\u001b[0m    5.3%    \u001b[0m\u001b[0m    6.3%    \u001b[0m\n",
      "\u001b[96m\u001b[1m    COLEYSIA\u001b[0m\u001b[0m    4.7%    \u001b[0m\u001b[0m    3.7%    \u001b[0m\u001b[0m    2.2%    \u001b[0m\u001b[92m   37.8%    \u001b[0m\u001b[0m    2.9%    \u001b[0m\u001b[0m    2.7%    \u001b[0m\u001b[0m    4.1%    \u001b[0m\u001b[0m    4.2%    \u001b[0m\u001b[0m    3.6%    \u001b[0m\u001b[93m   34.1%    \u001b[0m\n",
      "\u001b[96m\u001b[1m        JACY\u001b[0m\u001b[0m    4.2%    \u001b[0m\u001b[0m    2.6%    \u001b[0m\u001b[0m    1.7%    \u001b[0m\u001b[0m    6.8%    \u001b[0m\u001b[0m   18.1%    \u001b[0m\u001b[0m    4.0%    \u001b[0m\u001b[0m    2.7%    \u001b[0m\u001b[92m   55.3%    \u001b[0m\u001b[0m    3.9%    \u001b[0m\u001b[0m    0.8%    \u001b[0m\n",
      "\u001b[96m\u001b[1m     JESSICA\u001b[0m\u001b[0m    6.8%    \u001b[0m\u001b[0m    6.1%    \u001b[0m\u001b[92m   39.4%    \u001b[0m\u001b[91m     X      \u001b[0m\u001b[0m    8.9%    \u001b[0m\u001b[91m     X      \u001b[0m\u001b[0m    9.0%    \u001b[0m\u001b[0m    9.7%    \u001b[0m\u001b[0m    9.8%    \u001b[0m\u001b[0m   10.3%    \u001b[0m\n",
      "\u001b[96m\u001b[1m       KAYLA\u001b[0m\u001b[0m    5.3%    \u001b[0m\u001b[0m    3.2%    \u001b[0m\u001b[0m    4.4%    \u001b[0m\u001b[0m    6.5%    \u001b[0m\u001b[0m    3.1%    \u001b[0m\u001b[0m    4.3%    \u001b[0m\u001b[0m    5.3%    \u001b[0m\u001b[0m    5.2%    \u001b[0m\u001b[92m   43.2%    \u001b[0m\u001b[0m   19.4%    \u001b[0m\n",
      "\u001b[96m\u001b[1m       PAIGE\u001b[0m\u001b[0m    5.5%    \u001b[0m\u001b[0m    3.0%    \u001b[0m\u001b[92m   38.0%    \u001b[0m\u001b[0m    7.9%    \u001b[0m\u001b[0m    4.9%    \u001b[0m\u001b[0m    3.9%    \u001b[0m\u001b[93m   21.2%    \u001b[0m\u001b[0m    5.3%    \u001b[0m\u001b[0m    4.7%    \u001b[0m\u001b[0m    5.6%    \u001b[0m\n",
      "\u001b[96m\u001b[1m     SHANLEY\u001b[0m\u001b[92m   45.1%    \u001b[0m\u001b[0m    3.0%    \u001b[0m\u001b[91m     X      \u001b[0m\u001b[0m    9.2%    \u001b[0m\u001b[0m    5.0%    \u001b[0m\u001b[93m   21.6%    \u001b[0m\u001b[0m    0.8%    \u001b[0m\u001b[0m    4.3%    \u001b[0m\u001b[0m    6.6%    \u001b[0m\u001b[0m    4.4%    \u001b[0m\n",
      "\u001b[96m\u001b[1m      SIMONE\u001b[0m\u001b[0m    5.0%    \u001b[0m\u001b[92m   52.8%    \u001b[0m\u001b[0m    2.0%    \u001b[0m\u001b[0m   10.6%    \u001b[0m\u001b[0m    6.5%    \u001b[0m\u001b[0m    6.2%    \u001b[0m\u001b[0m    4.3%    \u001b[0m\u001b[91m     X      \u001b[0m\u001b[0m    6.5%    \u001b[0m\u001b[0m    6.1%    \u001b[0m\n",
      "\n",
      "Number of permutations left: 899\n"
     ]
    }
   ],
   "source": [
    "men_perms = [p for p in men_perms if p[Women.JESSICA.value] != Men.DILLAN.value]\n",
    "\n",
    "print_probabilities(men_perms)\n",
    "perms_over_time.append(('TB4', len(men_perms)))\n",
    "print(f\"Number of permutations left: {len(men_perms)}\")"
   ]
  },
  {
   "cell_type": "markdown",
   "metadata": {},
   "source": [
    "#### Match Ceremony 4\n",
    "\n",
    "Again, only 2 are correct. However, because they chose distinct couples (for the most part) that hadn't been seen before, they managed to eliminate a lot of possible pairings (Coleysia with Chris S., Dre, and Ethan, as well as Shanley with Joey and Chris. T)."
   ]
  },
  {
   "cell_type": "code",
   "execution_count": 11,
   "metadata": {},
   "outputs": [
    {
     "name": "stdout",
     "output_type": "stream",
     "text": [
      "            \u001b[95m\u001b[1m    ADAM    \u001b[95m\u001b[1m  CHRIS_S   \u001b[95m\u001b[1m  CHRIS_T   \u001b[95m\u001b[1m   DILLAN   \u001b[95m\u001b[1m    DRE     \u001b[95m\u001b[1m   ETHAN    \u001b[95m\u001b[1m    JOEY    \u001b[95m\u001b[1m    JOHN    \u001b[95m\u001b[1m    RYAN    \u001b[95m\u001b[1m   WESLEY   \u001b[0m\n",
      "\u001b[96m\u001b[1m       AMBER\u001b[0m\u001b[0m   14.1%    \u001b[0m\u001b[0m    5.6%    \u001b[0m\u001b[0m    5.6%    \u001b[0m\u001b[0m    0.7%    \u001b[0m\u001b[0m    2.8%    \u001b[0m\u001b[92m   41.5%    \u001b[0m\u001b[0m    4.2%    \u001b[0m\u001b[0m    3.5%    \u001b[0m\u001b[0m   12.7%    \u001b[0m\u001b[0m    9.2%    \u001b[0m\n",
      "\u001b[96m\u001b[1m    ASHLEIGH\u001b[0m\u001b[0m    6.3%    \u001b[0m\u001b[0m   14.8%    \u001b[0m\u001b[0m   12.0%    \u001b[0m\u001b[0m    0.7%    \u001b[0m\u001b[92m   35.9%    \u001b[0m\u001b[0m    5.6%    \u001b[0m\u001b[0m    3.5%    \u001b[0m\u001b[0m    7.7%    \u001b[0m\u001b[0m    7.0%    \u001b[0m\u001b[0m    6.3%    \u001b[0m\n",
      "\u001b[96m\u001b[1m    BRITTANY\u001b[0m\u001b[0m    1.4%    \u001b[0m\u001b[0m    2.8%    \u001b[0m\u001b[0m    3.5%    \u001b[0m\u001b[0m    5.6%    \u001b[0m\u001b[0m    5.6%    \u001b[0m\u001b[0m    6.3%    \u001b[0m\u001b[92m   52.1%    \u001b[0m\u001b[0m    4.2%    \u001b[0m\u001b[0m   13.4%    \u001b[0m\u001b[0m    4.9%    \u001b[0m\n",
      "\u001b[96m\u001b[1m    COLEYSIA\u001b[0m\u001b[0m    0.7%    \u001b[0m\u001b[91m     X      \u001b[0m\u001b[0m    1.4%    \u001b[0m\u001b[92m   81.7%    \u001b[0m\u001b[91m     X      \u001b[0m\u001b[91m     X      \u001b[0m\u001b[0m    0.7%    \u001b[0m\u001b[0m    1.4%    \u001b[0m\u001b[0m    0.7%    \u001b[0m\u001b[0m   13.4%    \u001b[0m\n",
      "\u001b[96m\u001b[1m        JACY\u001b[0m\u001b[0m    2.8%    \u001b[0m\u001b[0m    1.4%    \u001b[0m\u001b[0m    0.7%    \u001b[0m\u001b[0m    3.5%    \u001b[0m\u001b[0m   15.5%    \u001b[0m\u001b[0m    2.8%    \u001b[0m\u001b[0m    5.6%    \u001b[0m\u001b[92m   62.7%    \u001b[0m\u001b[0m    4.2%    \u001b[0m\u001b[0m    0.7%    \u001b[0m\n",
      "\u001b[96m\u001b[1m     JESSICA\u001b[0m\u001b[0m    7.7%    \u001b[0m\u001b[0m    5.6%    \u001b[0m\u001b[93m   22.5%    \u001b[0m\u001b[91m     X      \u001b[0m\u001b[0m    8.5%    \u001b[0m\u001b[91m     X      \u001b[0m\u001b[0m   10.6%    \u001b[0m\u001b[0m    2.8%    \u001b[0m\u001b[0m   12.7%    \u001b[0m\u001b[92m   29.6%    \u001b[0m\n",
      "\u001b[96m\u001b[1m       KAYLA\u001b[0m\u001b[0m    7.0%    \u001b[0m\u001b[0m    3.5%    \u001b[0m\u001b[0m    5.6%    \u001b[0m\u001b[0m    2.1%    \u001b[0m\u001b[0m    3.5%    \u001b[0m\u001b[0m   13.4%    \u001b[0m\u001b[0m    7.7%    \u001b[0m\u001b[0m    3.5%    \u001b[0m\u001b[92m   32.4%    \u001b[0m\u001b[93m   21.1%    \u001b[0m\n",
      "\u001b[96m\u001b[1m       PAIGE\u001b[0m\u001b[0m    3.5%    \u001b[0m\u001b[0m    3.5%    \u001b[0m\u001b[92m   48.6%    \u001b[0m\u001b[0m    3.5%    \u001b[0m\u001b[0m    5.6%    \u001b[0m\u001b[0m    4.9%    \u001b[0m\u001b[0m   12.7%    \u001b[0m\u001b[0m    4.9%    \u001b[0m\u001b[0m    4.9%    \u001b[0m\u001b[0m    7.7%    \u001b[0m\n",
      "\u001b[96m\u001b[1m     SHANLEY\u001b[0m\u001b[92m   54.2%    \u001b[0m\u001b[0m    3.5%    \u001b[0m\u001b[91m     X      \u001b[0m\u001b[0m    1.4%    \u001b[0m\u001b[0m    4.9%    \u001b[0m\u001b[0m   17.6%    \u001b[0m\u001b[91m     X      \u001b[0m\u001b[0m    9.2%    \u001b[0m\u001b[0m    6.3%    \u001b[0m\u001b[0m    2.8%    \u001b[0m\n",
      "\u001b[96m\u001b[1m      SIMONE\u001b[0m\u001b[0m    2.1%    \u001b[0m\u001b[92m   59.2%    \u001b[0m\u001b[91m     X      \u001b[0m\u001b[0m    0.7%    \u001b[0m\u001b[0m   17.6%    \u001b[0m\u001b[0m    7.7%    \u001b[0m\u001b[0m    2.8%    \u001b[0m\u001b[91m     X      \u001b[0m\u001b[0m    5.6%    \u001b[0m\u001b[0m    4.2%    \u001b[0m\n",
      "\n",
      "Number of permutations left: 142\n"
     ]
    }
   ],
   "source": [
    "# The women are the indexes:         Amber   Ashleigh     Brittany  Coleysia      Jacy     Jessica      Kayla      Paige      Shanley    Simone\n",
    "matches = tuple([x.value for x in (Men.ADAM, Men.CHRIS_T, Men.RYAN, Men.DILLAN, Men.JOEY, Men.WESLEY, Men.ETHAN, Men.CHRIS_S, Men.JOHN, Men.DRE)])\n",
    "correct_match_count = 2\n",
    "\n",
    "men_perms = [p for p in men_perms if valid_perm(p, matches, correct_match_count)]\n",
    "\n",
    "print_probabilities(men_perms)\n",
    "perms_over_time.append(('MC4', len(men_perms)))\n",
    "print(f\"Number of permutations left: {len(men_perms)}\")"
   ]
  },
  {
   "cell_type": "markdown",
   "metadata": {},
   "source": [
    "### Episode 5\n",
    "#### Truth Booth 5\n",
    "Dre and Ashleigh aren't a match."
   ]
  },
  {
   "cell_type": "code",
   "execution_count": 12,
   "metadata": {},
   "outputs": [
    {
     "name": "stdout",
     "output_type": "stream",
     "text": [
      "            \u001b[95m\u001b[1m    ADAM    \u001b[95m\u001b[1m  CHRIS_S   \u001b[95m\u001b[1m  CHRIS_T   \u001b[95m\u001b[1m   DILLAN   \u001b[95m\u001b[1m    DRE     \u001b[95m\u001b[1m   ETHAN    \u001b[95m\u001b[1m    JOEY    \u001b[95m\u001b[1m    JOHN    \u001b[95m\u001b[1m    RYAN    \u001b[95m\u001b[1m   WESLEY   \u001b[0m\n",
      "\u001b[96m\u001b[1m       AMBER\u001b[0m\u001b[0m    8.8%    \u001b[0m\u001b[0m    4.4%    \u001b[0m\u001b[0m    5.5%    \u001b[0m\u001b[0m    1.1%    \u001b[0m\u001b[0m    4.4%    \u001b[0m\u001b[92m   61.5%    \u001b[0m\u001b[0m    4.4%    \u001b[0m\u001b[0m    1.1%    \u001b[0m\u001b[0m    1.1%    \u001b[0m\u001b[0m    7.7%    \u001b[0m\n",
      "\u001b[96m\u001b[1m    ASHLEIGH\u001b[0m\u001b[0m    9.9%    \u001b[0m\u001b[92m   23.1%    \u001b[0m\u001b[0m   18.7%    \u001b[0m\u001b[0m    1.1%    \u001b[0m\u001b[91m     X      \u001b[0m\u001b[0m    8.8%    \u001b[0m\u001b[0m    5.5%    \u001b[0m\u001b[0m   12.1%    \u001b[0m\u001b[0m   11.0%    \u001b[0m\u001b[0m    9.9%    \u001b[0m\n",
      "\u001b[96m\u001b[1m    BRITTANY\u001b[0m\u001b[91m     X      \u001b[0m\u001b[0m    2.2%    \u001b[0m\u001b[0m    2.2%    \u001b[0m\u001b[0m    4.4%    \u001b[0m\u001b[0m    8.8%    \u001b[0m\u001b[0m    5.5%    \u001b[0m\u001b[92m   59.3%    \u001b[0m\u001b[0m    4.4%    \u001b[0m\u001b[0m    9.9%    \u001b[0m\u001b[0m    3.3%    \u001b[0m\n",
      "\u001b[96m\u001b[1m    COLEYSIA\u001b[0m\u001b[0m    1.1%    \u001b[0m\u001b[91m     X      \u001b[0m\u001b[0m    1.1%    \u001b[0m\u001b[92m   85.7%    \u001b[0m\u001b[91m     X      \u001b[0m\u001b[91m     X      \u001b[0m\u001b[91m     X      \u001b[0m\u001b[0m    1.1%    \u001b[0m\u001b[0m    1.1%    \u001b[0m\u001b[0m    9.9%    \u001b[0m\n",
      "\u001b[96m\u001b[1m        JACY\u001b[0m\u001b[0m    3.3%    \u001b[0m\u001b[0m    1.1%    \u001b[0m\u001b[91m     X      \u001b[0m\u001b[0m    2.2%    \u001b[0m\u001b[93m   24.2%    \u001b[0m\u001b[91m     X      \u001b[0m\u001b[0m    4.4%    \u001b[0m\u001b[92m   60.4%    \u001b[0m\u001b[0m    3.3%    \u001b[0m\u001b[0m    1.1%    \u001b[0m\n",
      "\u001b[96m\u001b[1m     JESSICA\u001b[0m\u001b[0m    9.9%    \u001b[0m\u001b[0m    4.4%    \u001b[0m\u001b[0m   16.5%    \u001b[0m\u001b[91m     X      \u001b[0m\u001b[0m   13.2%    \u001b[0m\u001b[91m     X      \u001b[0m\u001b[0m    7.7%    \u001b[0m\u001b[0m    4.4%    \u001b[0m\u001b[0m   12.1%    \u001b[0m\u001b[92m   31.9%    \u001b[0m\n",
      "\u001b[96m\u001b[1m       KAYLA\u001b[0m\u001b[0m    4.4%    \u001b[0m\u001b[0m    3.3%    \u001b[0m\u001b[0m    6.6%    \u001b[0m\u001b[0m    1.1%    \u001b[0m\u001b[0m    5.5%    \u001b[0m\u001b[0m    2.2%    \u001b[0m\u001b[0m    5.5%    \u001b[0m\u001b[0m    3.3%    \u001b[0m\u001b[92m   45.1%    \u001b[0m\u001b[93m   23.1%    \u001b[0m\n",
      "\u001b[96m\u001b[1m       PAIGE\u001b[0m\u001b[0m    4.4%    \u001b[0m\u001b[0m    2.2%    \u001b[0m\u001b[92m   49.5%    \u001b[0m\u001b[0m    3.3%    \u001b[0m\u001b[0m    8.8%    \u001b[0m\u001b[0m    3.3%    \u001b[0m\u001b[0m   12.1%    \u001b[0m\u001b[0m    4.4%    \u001b[0m\u001b[0m    4.4%    \u001b[0m\u001b[0m    7.7%    \u001b[0m\n",
      "\u001b[96m\u001b[1m     SHANLEY\u001b[0m\u001b[92m   57.1%    \u001b[0m\u001b[0m    2.2%    \u001b[0m\u001b[91m     X      \u001b[0m\u001b[91m     X      \u001b[0m\u001b[0m    7.7%    \u001b[0m\u001b[0m   14.3%    \u001b[0m\u001b[91m     X      \u001b[0m\u001b[0m    8.8%    \u001b[0m\u001b[0m    6.6%    \u001b[0m\u001b[0m    3.3%    \u001b[0m\n",
      "\u001b[96m\u001b[1m      SIMONE\u001b[0m\u001b[0m    1.1%    \u001b[0m\u001b[92m   57.1%    \u001b[0m\u001b[91m     X      \u001b[0m\u001b[0m    1.1%    \u001b[0m\u001b[93m   27.5%    \u001b[0m\u001b[0m    4.4%    \u001b[0m\u001b[0m    1.1%    \u001b[0m\u001b[91m     X      \u001b[0m\u001b[0m    5.5%    \u001b[0m\u001b[0m    2.2%    \u001b[0m\n",
      "\n",
      "Number of permutations left: 91\n"
     ]
    }
   ],
   "source": [
    "men_perms = [p for p in men_perms if p[Women.ASHLEIGH.value] != Men.DRE.value]\n",
    "\n",
    "print_probabilities(men_perms)\n",
    "perms_over_time.append(('TB5', len(men_perms)))\n",
    "print(f\"Number of permutations left: {len(men_perms)}\")"
   ]
  },
  {
   "cell_type": "markdown",
   "metadata": {},
   "source": [
    "#### Truth Booth 6\n",
    "\n",
    "Coleysia and Dillan are a match!"
   ]
  },
  {
   "cell_type": "code",
   "execution_count": 13,
   "metadata": {},
   "outputs": [
    {
     "name": "stdout",
     "output_type": "stream",
     "text": [
      "            \u001b[95m\u001b[1m    ADAM    \u001b[95m\u001b[1m  CHRIS_S   \u001b[95m\u001b[1m  CHRIS_T   \u001b[95m\u001b[1m   DILLAN   \u001b[95m\u001b[1m    DRE     \u001b[95m\u001b[1m   ETHAN    \u001b[95m\u001b[1m    JOEY    \u001b[95m\u001b[1m    JOHN    \u001b[95m\u001b[1m    RYAN    \u001b[95m\u001b[1m   WESLEY   \u001b[0m\n",
      "\u001b[96m\u001b[1m       AMBER\u001b[0m\u001b[0m    7.7%    \u001b[0m\u001b[0m    5.1%    \u001b[0m\u001b[0m    6.4%    \u001b[0m\u001b[91m     X      \u001b[0m\u001b[0m    5.1%    \u001b[0m\u001b[92m   59.0%    \u001b[0m\u001b[0m    5.1%    \u001b[0m\u001b[0m    1.3%    \u001b[0m\u001b[0m    1.3%    \u001b[0m\u001b[0m    9.0%    \u001b[0m\n",
      "\u001b[96m\u001b[1m    ASHLEIGH\u001b[0m\u001b[0m   10.3%    \u001b[0m\u001b[92m   17.9%    \u001b[0m\u001b[0m   16.7%    \u001b[0m\u001b[91m     X      \u001b[0m\u001b[91m     X      \u001b[0m\u001b[0m   10.3%    \u001b[0m\u001b[0m    6.4%    \u001b[0m\u001b[0m   14.1%    \u001b[0m\u001b[0m   12.8%    \u001b[0m\u001b[0m   11.5%    \u001b[0m\n",
      "\u001b[96m\u001b[1m    BRITTANY\u001b[0m\u001b[91m     X      \u001b[0m\u001b[0m    2.6%    \u001b[0m\u001b[0m    2.6%    \u001b[0m\u001b[91m     X      \u001b[0m\u001b[0m   10.3%    \u001b[0m\u001b[0m    6.4%    \u001b[0m\u001b[92m   60.3%    \u001b[0m\u001b[0m    3.8%    \u001b[0m\u001b[0m   10.3%    \u001b[0m\u001b[0m    3.8%    \u001b[0m\n",
      "\u001b[96m\u001b[1m    COLEYSIA\u001b[0m\u001b[91m     X      \u001b[0m\u001b[91m     X      \u001b[0m\u001b[91m     X      \u001b[0m\u001b[92m   MATCH    \u001b[0m\u001b[91m     X      \u001b[0m\u001b[91m     X      \u001b[0m\u001b[91m     X      \u001b[0m\u001b[91m     X      \u001b[0m\u001b[91m     X      \u001b[0m\u001b[91m     X      \u001b[0m\n",
      "\u001b[96m\u001b[1m        JACY\u001b[0m\u001b[0m    2.6%    \u001b[0m\u001b[0m    1.3%    \u001b[0m\u001b[91m     X      \u001b[0m\u001b[91m     X      \u001b[0m\u001b[93m   21.8%    \u001b[0m\u001b[91m     X      \u001b[0m\u001b[0m    2.6%    \u001b[0m\u001b[92m   66.7%    \u001b[0m\u001b[0m    3.8%    \u001b[0m\u001b[0m    1.3%    \u001b[0m\n",
      "\u001b[96m\u001b[1m     JESSICA\u001b[0m\u001b[0m   10.3%    \u001b[0m\u001b[0m    5.1%    \u001b[0m\u001b[0m   11.5%    \u001b[0m\u001b[91m     X      \u001b[0m\u001b[0m   15.4%    \u001b[0m\u001b[91m     X      \u001b[0m\u001b[0m    9.0%    \u001b[0m\u001b[0m    1.3%    \u001b[0m\u001b[0m   14.1%    \u001b[0m\u001b[92m   33.3%    \u001b[0m\n",
      "\u001b[96m\u001b[1m       KAYLA\u001b[0m\u001b[0m    5.1%    \u001b[0m\u001b[0m    3.8%    \u001b[0m\u001b[0m    7.7%    \u001b[0m\u001b[91m     X      \u001b[0m\u001b[0m    6.4%    \u001b[0m\u001b[0m    2.6%    \u001b[0m\u001b[0m    6.4%    \u001b[0m\u001b[0m    3.8%    \u001b[0m\u001b[92m   38.5%    \u001b[0m\u001b[93m   25.6%    \u001b[0m\n",
      "\u001b[96m\u001b[1m       PAIGE\u001b[0m\u001b[0m    3.8%    \u001b[0m\u001b[91m     X      \u001b[0m\u001b[92m   55.1%    \u001b[0m\u001b[91m     X      \u001b[0m\u001b[0m   10.3%    \u001b[0m\u001b[0m    3.8%    \u001b[0m\u001b[0m    9.0%    \u001b[0m\u001b[0m    3.8%    \u001b[0m\u001b[0m    5.1%    \u001b[0m\u001b[0m    9.0%    \u001b[0m\n",
      "\u001b[96m\u001b[1m     SHANLEY\u001b[0m\u001b[92m   59.0%    \u001b[0m\u001b[0m    2.6%    \u001b[0m\u001b[91m     X      \u001b[0m\u001b[91m     X      \u001b[0m\u001b[0m    9.0%    \u001b[0m\u001b[0m   12.8%    \u001b[0m\u001b[91m     X      \u001b[0m\u001b[0m    5.1%    \u001b[0m\u001b[0m    7.7%    \u001b[0m\u001b[0m    3.8%    \u001b[0m\n",
      "\u001b[96m\u001b[1m      SIMONE\u001b[0m\u001b[0m    1.3%    \u001b[0m\u001b[92m   61.5%    \u001b[0m\u001b[91m     X      \u001b[0m\u001b[91m     X      \u001b[0m\u001b[93m   21.8%    \u001b[0m\u001b[0m    5.1%    \u001b[0m\u001b[0m    1.3%    \u001b[0m\u001b[91m     X      \u001b[0m\u001b[0m    6.4%    \u001b[0m\u001b[0m    2.6%    \u001b[0m\n",
      "\n",
      "Number of permutations left: 78\n"
     ]
    }
   ],
   "source": [
    "men_perms = [p for p in men_perms if p[Women.COLEYSIA.value] == Men.DILLAN.value]\n",
    "\n",
    "print_probabilities(men_perms)\n",
    "perms_over_time.append(('TB6', len(men_perms)))\n",
    "print(f\"Number of permutations left: {len(men_perms)}\")"
   ]
  },
  {
   "cell_type": "markdown",
   "metadata": {},
   "source": [
    "#### Match Ceremony 5\n",
    "\n",
    "The contestants have no way of knowing this, but Simone and Chris S. have already been eliminated as a possible match, so sending them to the ceremony is pointless."
   ]
  },
  {
   "cell_type": "code",
   "execution_count": 14,
   "metadata": {},
   "outputs": [
    {
     "name": "stdout",
     "output_type": "stream",
     "text": [
      "            \u001b[95m\u001b[1m    ADAM    \u001b[95m\u001b[1m  CHRIS_S   \u001b[95m\u001b[1m  CHRIS_T   \u001b[95m\u001b[1m   DILLAN   \u001b[95m\u001b[1m    DRE     \u001b[95m\u001b[1m   ETHAN    \u001b[95m\u001b[1m    JOEY    \u001b[95m\u001b[1m    JOHN    \u001b[95m\u001b[1m    RYAN    \u001b[95m\u001b[1m   WESLEY   \u001b[0m\n",
      "\u001b[96m\u001b[1m       AMBER\u001b[0m\u001b[91m     X      \u001b[0m\u001b[91m     X      \u001b[0m\u001b[0m    4.2%    \u001b[0m\u001b[91m     X      \u001b[0m\u001b[91m     X      \u001b[0m\u001b[92m   79.2%    \u001b[0m\u001b[0m    8.3%    \u001b[0m\u001b[91m     X      \u001b[0m\u001b[91m     X      \u001b[0m\u001b[0m    8.3%    \u001b[0m\n",
      "\u001b[96m\u001b[1m    ASHLEIGH\u001b[0m\u001b[0m   16.7%    \u001b[0m\u001b[0m   16.7%    \u001b[0m\u001b[92m   29.2%    \u001b[0m\u001b[91m     X      \u001b[0m\u001b[91m     X      \u001b[0m\u001b[0m    4.2%    \u001b[0m\u001b[0m    4.2%    \u001b[0m\u001b[0m    8.3%    \u001b[0m\u001b[0m   12.5%    \u001b[0m\u001b[0m    8.3%    \u001b[0m\n",
      "\u001b[96m\u001b[1m    BRITTANY\u001b[0m\u001b[91m     X      \u001b[0m\u001b[91m     X      \u001b[0m\u001b[91m     X      \u001b[0m\u001b[91m     X      \u001b[0m\u001b[0m   12.5%    \u001b[0m\u001b[0m    4.2%    \u001b[0m\u001b[92m   58.3%    \u001b[0m\u001b[91m     X      \u001b[0m\u001b[0m   16.7%    \u001b[0m\u001b[0m    8.3%    \u001b[0m\n",
      "\u001b[96m\u001b[1m    COLEYSIA\u001b[0m\u001b[91m     X      \u001b[0m\u001b[91m     X      \u001b[0m\u001b[91m     X      \u001b[0m\u001b[92m   MATCH    \u001b[0m\u001b[91m     X      \u001b[0m\u001b[91m     X      \u001b[0m\u001b[91m     X      \u001b[0m\u001b[91m     X      \u001b[0m\u001b[91m     X      \u001b[0m\u001b[91m     X      \u001b[0m\n",
      "\u001b[96m\u001b[1m        JACY\u001b[0m\u001b[91m     X      \u001b[0m\u001b[0m    4.2%    \u001b[0m\u001b[91m     X      \u001b[0m\u001b[91m     X      \u001b[0m\u001b[0m    8.3%    \u001b[0m\u001b[91m     X      \u001b[0m\u001b[91m     X      \u001b[0m\u001b[92m   75.0%    \u001b[0m\u001b[0m   12.5%    \u001b[0m\u001b[91m     X      \u001b[0m\n",
      "\u001b[96m\u001b[1m     JESSICA\u001b[0m\u001b[0m    8.3%    \u001b[0m\u001b[0m   12.5%    \u001b[0m\u001b[0m   12.5%    \u001b[0m\u001b[91m     X      \u001b[0m\u001b[92m   20.8%    \u001b[0m\u001b[91m     X      \u001b[0m\u001b[0m    4.2%    \u001b[0m\u001b[0m    4.2%    \u001b[0m\u001b[92m   20.8%    \u001b[0m\u001b[0m   16.7%    \u001b[0m\n",
      "\u001b[96m\u001b[1m       KAYLA\u001b[0m\u001b[91m     X      \u001b[0m\u001b[0m    4.2%    \u001b[0m\u001b[0m    8.3%    \u001b[0m\u001b[91m     X      \u001b[0m\u001b[0m    8.3%    \u001b[0m\u001b[0m    4.2%    \u001b[0m\u001b[0m   12.5%    \u001b[0m\u001b[91m     X      \u001b[0m\u001b[0m   16.7%    \u001b[0m\u001b[92m   45.8%    \u001b[0m\n",
      "\u001b[96m\u001b[1m       PAIGE\u001b[0m\u001b[0m    8.3%    \u001b[0m\u001b[91m     X      \u001b[0m\u001b[92m   45.8%    \u001b[0m\u001b[91m     X      \u001b[0m\u001b[0m   12.5%    \u001b[0m\u001b[91m     X      \u001b[0m\u001b[0m   12.5%    \u001b[0m\u001b[0m    8.3%    \u001b[0m\u001b[0m    4.2%    \u001b[0m\u001b[0m    8.3%    \u001b[0m\n",
      "\u001b[96m\u001b[1m     SHANLEY\u001b[0m\u001b[92m   66.7%    \u001b[0m\u001b[0m    4.2%    \u001b[0m\u001b[91m     X      \u001b[0m\u001b[91m     X      \u001b[0m\u001b[0m    8.3%    \u001b[0m\u001b[0m    4.2%    \u001b[0m\u001b[91m     X      \u001b[0m\u001b[0m    4.2%    \u001b[0m\u001b[0m   12.5%    \u001b[0m\u001b[91m     X      \u001b[0m\n",
      "\u001b[96m\u001b[1m      SIMONE\u001b[0m\u001b[91m     X      \u001b[0m\u001b[92m   58.3%    \u001b[0m\u001b[91m     X      \u001b[0m\u001b[91m     X      \u001b[0m\u001b[93m   29.2%    \u001b[0m\u001b[0m    4.2%    \u001b[0m\u001b[91m     X      \u001b[0m\u001b[91m     X      \u001b[0m\u001b[0m    4.2%    \u001b[0m\u001b[0m    4.2%    \u001b[0m\n",
      "\n",
      "Number of permutations left: 24\n"
     ]
    }
   ],
   "source": [
    "# The women are the indexes:         Amber   Ashleigh   Brittany  Coleysia     Jacy     Jessica      Kayla      Paige      Shanley     Simone\n",
    "matches = tuple([x.value for x in (Men.ETHAN, Men.RYAN, Men.DRE, Men.DILLAN, Men.JOHN, Men.JOEY, Men.WESLEY, Men.CHRIS_T, Men.ADAM, Men.CHRIS_S)])\n",
    "correct_match_count = 5\n",
    "\n",
    "men_perms = [p for p in men_perms if valid_perm(p, matches, correct_match_count)]\n",
    "\n",
    "print_probabilities(men_perms)\n",
    "perms_over_time.append(('MC5', len(men_perms)))\n",
    "print(f\"Number of permutations left: {len(men_perms)}\")"
   ]
  },
  {
   "cell_type": "markdown",
   "metadata": {},
   "source": [
    "### Episode 6\n",
    "#### Truth Booth 7\n",
    "Chris T. and Paige are a match!"
   ]
  },
  {
   "cell_type": "code",
   "execution_count": 15,
   "metadata": {},
   "outputs": [
    {
     "name": "stdout",
     "output_type": "stream",
     "text": [
      "            \u001b[95m\u001b[1m    ADAM    \u001b[95m\u001b[1m  CHRIS_S   \u001b[95m\u001b[1m  CHRIS_T   \u001b[95m\u001b[1m   DILLAN   \u001b[95m\u001b[1m    DRE     \u001b[95m\u001b[1m   ETHAN    \u001b[95m\u001b[1m    JOEY    \u001b[95m\u001b[1m    JOHN    \u001b[95m\u001b[1m    RYAN    \u001b[95m\u001b[1m   WESLEY   \u001b[0m\n",
      "\u001b[96m\u001b[1m       AMBER\u001b[0m\u001b[91m     X      \u001b[0m\u001b[91m     X      \u001b[0m\u001b[91m     X      \u001b[0m\u001b[91m     X      \u001b[0m\u001b[91m     X      \u001b[0m\u001b[92m   63.6%    \u001b[0m\u001b[0m   18.2%    \u001b[0m\u001b[91m     X      \u001b[0m\u001b[91m     X      \u001b[0m\u001b[0m   18.2%    \u001b[0m\n",
      "\u001b[96m\u001b[1m    ASHLEIGH\u001b[0m\u001b[92m   36.4%    \u001b[0m\u001b[92m   36.4%    \u001b[0m\u001b[91m     X      \u001b[0m\u001b[91m     X      \u001b[0m\u001b[91m     X      \u001b[0m\u001b[91m     X      \u001b[0m\u001b[91m     X      \u001b[0m\u001b[0m   18.2%    \u001b[0m\u001b[0m    9.1%    \u001b[0m\u001b[91m     X      \u001b[0m\n",
      "\u001b[96m\u001b[1m    BRITTANY\u001b[0m\u001b[91m     X      \u001b[0m\u001b[91m     X      \u001b[0m\u001b[91m     X      \u001b[0m\u001b[91m     X      \u001b[0m\u001b[0m   18.2%    \u001b[0m\u001b[0m    9.1%    \u001b[0m\u001b[92m   54.5%    \u001b[0m\u001b[91m     X      \u001b[0m\u001b[0m    9.1%    \u001b[0m\u001b[0m    9.1%    \u001b[0m\n",
      "\u001b[96m\u001b[1m    COLEYSIA\u001b[0m\u001b[91m     X      \u001b[0m\u001b[91m     X      \u001b[0m\u001b[91m     X      \u001b[0m\u001b[92m   MATCH    \u001b[0m\u001b[91m     X      \u001b[0m\u001b[91m     X      \u001b[0m\u001b[91m     X      \u001b[0m\u001b[91m     X      \u001b[0m\u001b[91m     X      \u001b[0m\u001b[91m     X      \u001b[0m\n",
      "\u001b[96m\u001b[1m        JACY\u001b[0m\u001b[91m     X      \u001b[0m\u001b[0m    9.1%    \u001b[0m\u001b[91m     X      \u001b[0m\u001b[91m     X      \u001b[0m\u001b[0m    9.1%    \u001b[0m\u001b[91m     X      \u001b[0m\u001b[91m     X      \u001b[0m\u001b[92m   63.6%    \u001b[0m\u001b[0m   18.2%    \u001b[0m\u001b[91m     X      \u001b[0m\n",
      "\u001b[96m\u001b[1m     JESSICA\u001b[0m\u001b[91m     X      \u001b[0m\u001b[0m   18.2%    \u001b[0m\u001b[91m     X      \u001b[0m\u001b[91m     X      \u001b[0m\u001b[0m   18.2%    \u001b[0m\u001b[91m     X      \u001b[0m\u001b[0m    9.1%    \u001b[0m\u001b[0m    9.1%    \u001b[0m\u001b[92m   27.3%    \u001b[0m\u001b[0m   18.2%    \u001b[0m\n",
      "\u001b[96m\u001b[1m       KAYLA\u001b[0m\u001b[91m     X      \u001b[0m\u001b[91m     X      \u001b[0m\u001b[91m     X      \u001b[0m\u001b[91m     X      \u001b[0m\u001b[91m     X      \u001b[0m\u001b[0m    9.1%    \u001b[0m\u001b[0m   18.2%    \u001b[0m\u001b[91m     X      \u001b[0m\u001b[93m   27.3%    \u001b[0m\u001b[92m   45.5%    \u001b[0m\n",
      "\u001b[96m\u001b[1m       PAIGE\u001b[0m\u001b[91m     X      \u001b[0m\u001b[91m     X      \u001b[0m\u001b[92m   MATCH    \u001b[0m\u001b[91m     X      \u001b[0m\u001b[91m     X      \u001b[0m\u001b[91m     X      \u001b[0m\u001b[91m     X      \u001b[0m\u001b[91m     X      \u001b[0m\u001b[91m     X      \u001b[0m\u001b[91m     X      \u001b[0m\n",
      "\u001b[96m\u001b[1m     SHANLEY\u001b[0m\u001b[92m   63.6%    \u001b[0m\u001b[0m    9.1%    \u001b[0m\u001b[91m     X      \u001b[0m\u001b[91m     X      \u001b[0m\u001b[91m     X      \u001b[0m\u001b[0m    9.1%    \u001b[0m\u001b[91m     X      \u001b[0m\u001b[0m    9.1%    \u001b[0m\u001b[0m    9.1%    \u001b[0m\u001b[91m     X      \u001b[0m\n",
      "\u001b[96m\u001b[1m      SIMONE\u001b[0m\u001b[91m     X      \u001b[0m\u001b[93m   27.3%    \u001b[0m\u001b[91m     X      \u001b[0m\u001b[91m     X      \u001b[0m\u001b[92m   54.5%    \u001b[0m\u001b[0m    9.1%    \u001b[0m\u001b[91m     X      \u001b[0m\u001b[91m     X      \u001b[0m\u001b[91m     X      \u001b[0m\u001b[0m    9.1%    \u001b[0m\n",
      "\n",
      "Number of permutations left: 11\n"
     ]
    }
   ],
   "source": [
    "men_perms = [p for p in men_perms if p[Women.PAIGE.value] == Men.CHRIS_T.value]\n",
    "\n",
    "print_probabilities(men_perms)\n",
    "perms_over_time.append(('TB7', len(men_perms)))\n",
    "print(f\"Number of permutations left: {len(men_perms)}\")"
   ]
  },
  {
   "cell_type": "markdown",
   "metadata": {},
   "source": [
    "### Episode 7\n",
    "#### Match Ceremony 6\n",
    "\n",
    "Again, we already know Shanley + Dre, Brittany + Chris S., and Simone + Joey can't be a match, but they are sent to the ceremony anyway."
   ]
  },
  {
   "cell_type": "code",
   "execution_count": 16,
   "metadata": {},
   "outputs": [
    {
     "name": "stdout",
     "output_type": "stream",
     "text": [
      "            \u001b[95m\u001b[1m    ADAM    \u001b[95m\u001b[1m  CHRIS_S   \u001b[95m\u001b[1m  CHRIS_T   \u001b[95m\u001b[1m   DILLAN   \u001b[95m\u001b[1m    DRE     \u001b[95m\u001b[1m   ETHAN    \u001b[95m\u001b[1m    JOEY    \u001b[95m\u001b[1m    JOHN    \u001b[95m\u001b[1m    RYAN    \u001b[95m\u001b[1m   WESLEY   \u001b[0m\n",
      "\u001b[96m\u001b[1m       AMBER\u001b[0m\u001b[91m     X      \u001b[0m\u001b[91m     X      \u001b[0m\u001b[91m     X      \u001b[0m\u001b[91m     X      \u001b[0m\u001b[91m     X      \u001b[0m\u001b[92m   MATCH    \u001b[0m\u001b[91m     X      \u001b[0m\u001b[91m     X      \u001b[0m\u001b[91m     X      \u001b[0m\u001b[91m     X      \u001b[0m\n",
      "\u001b[96m\u001b[1m    ASHLEIGH\u001b[0m\u001b[92m   33.3%    \u001b[0m\u001b[92m   33.3%    \u001b[0m\u001b[91m     X      \u001b[0m\u001b[91m     X      \u001b[0m\u001b[91m     X      \u001b[0m\u001b[91m     X      \u001b[0m\u001b[91m     X      \u001b[0m\u001b[92m   33.3%    \u001b[0m\u001b[91m     X      \u001b[0m\u001b[91m     X      \u001b[0m\n",
      "\u001b[96m\u001b[1m    BRITTANY\u001b[0m\u001b[91m     X      \u001b[0m\u001b[91m     X      \u001b[0m\u001b[91m     X      \u001b[0m\u001b[91m     X      \u001b[0m\u001b[91m     X      \u001b[0m\u001b[91m     X      \u001b[0m\u001b[92m   66.7%    \u001b[0m\u001b[91m     X      \u001b[0m\u001b[91m     X      \u001b[0m\u001b[93m   33.3%    \u001b[0m\n",
      "\u001b[96m\u001b[1m    COLEYSIA\u001b[0m\u001b[91m     X      \u001b[0m\u001b[91m     X      \u001b[0m\u001b[91m     X      \u001b[0m\u001b[92m   MATCH    \u001b[0m\u001b[91m     X      \u001b[0m\u001b[91m     X      \u001b[0m\u001b[91m     X      \u001b[0m\u001b[91m     X      \u001b[0m\u001b[91m     X      \u001b[0m\u001b[91m     X      \u001b[0m\n",
      "\u001b[96m\u001b[1m        JACY\u001b[0m\u001b[91m     X      \u001b[0m\u001b[92m   33.3%    \u001b[0m\u001b[91m     X      \u001b[0m\u001b[91m     X      \u001b[0m\u001b[91m     X      \u001b[0m\u001b[91m     X      \u001b[0m\u001b[91m     X      \u001b[0m\u001b[92m   33.3%    \u001b[0m\u001b[92m   33.3%    \u001b[0m\u001b[91m     X      \u001b[0m\n",
      "\u001b[96m\u001b[1m     JESSICA\u001b[0m\u001b[91m     X      \u001b[0m\u001b[91m     X      \u001b[0m\u001b[91m     X      \u001b[0m\u001b[91m     X      \u001b[0m\u001b[93m   33.3%    \u001b[0m\u001b[91m     X      \u001b[0m\u001b[91m     X      \u001b[0m\u001b[91m     X      \u001b[0m\u001b[92m   66.7%    \u001b[0m\u001b[91m     X      \u001b[0m\n",
      "\u001b[96m\u001b[1m       KAYLA\u001b[0m\u001b[91m     X      \u001b[0m\u001b[91m     X      \u001b[0m\u001b[91m     X      \u001b[0m\u001b[91m     X      \u001b[0m\u001b[91m     X      \u001b[0m\u001b[91m     X      \u001b[0m\u001b[93m   33.3%    \u001b[0m\u001b[91m     X      \u001b[0m\u001b[91m     X      \u001b[0m\u001b[92m   66.7%    \u001b[0m\n",
      "\u001b[96m\u001b[1m       PAIGE\u001b[0m\u001b[91m     X      \u001b[0m\u001b[91m     X      \u001b[0m\u001b[92m   MATCH    \u001b[0m\u001b[91m     X      \u001b[0m\u001b[91m     X      \u001b[0m\u001b[91m     X      \u001b[0m\u001b[91m     X      \u001b[0m\u001b[91m     X      \u001b[0m\u001b[91m     X      \u001b[0m\u001b[91m     X      \u001b[0m\n",
      "\u001b[96m\u001b[1m     SHANLEY\u001b[0m\u001b[92m   66.7%    \u001b[0m\u001b[91m     X      \u001b[0m\u001b[91m     X      \u001b[0m\u001b[91m     X      \u001b[0m\u001b[91m     X      \u001b[0m\u001b[91m     X      \u001b[0m\u001b[91m     X      \u001b[0m\u001b[93m   33.3%    \u001b[0m\u001b[91m     X      \u001b[0m\u001b[91m     X      \u001b[0m\n",
      "\u001b[96m\u001b[1m      SIMONE\u001b[0m\u001b[91m     X      \u001b[0m\u001b[93m   33.3%    \u001b[0m\u001b[91m     X      \u001b[0m\u001b[91m     X      \u001b[0m\u001b[92m   66.7%    \u001b[0m\u001b[91m     X      \u001b[0m\u001b[91m     X      \u001b[0m\u001b[91m     X      \u001b[0m\u001b[91m     X      \u001b[0m\u001b[91m     X      \u001b[0m\n",
      "\n",
      "Configuration 0\n",
      "\n",
      "\u001b[96m   AMBER    \u001b[96m  ASHLEIGH  \u001b[96m  BRITTANY  \u001b[96m  COLEYSIA  \u001b[96m    JACY    \u001b[96m  JESSICA   \u001b[96m   KAYLA    \u001b[96m   PAIGE    \u001b[96m  SHANLEY   \u001b[96m   SIMONE   \u001b[0m\n",
      "\u001b[95m   ETHAN    \u001b[95m    ADAM    \u001b[95m    JOEY    \u001b[95m   DILLAN   \u001b[95m    RYAN    \u001b[95m    DRE     \u001b[95m   WESLEY   \u001b[95m  CHRIS_T   \u001b[95m    JOHN    \u001b[95m  CHRIS_S   \u001b[0m\n",
      "\n",
      "Configuration 1\n",
      "\n",
      "\u001b[96m   AMBER    \u001b[96m  ASHLEIGH  \u001b[96m  BRITTANY  \u001b[96m  COLEYSIA  \u001b[96m    JACY    \u001b[96m  JESSICA   \u001b[96m   KAYLA    \u001b[96m   PAIGE    \u001b[96m  SHANLEY   \u001b[96m   SIMONE   \u001b[0m\n",
      "\u001b[95m   ETHAN    \u001b[95m  CHRIS_S   \u001b[95m   WESLEY   \u001b[95m   DILLAN   \u001b[95m    JOHN    \u001b[95m    RYAN    \u001b[95m    JOEY    \u001b[95m  CHRIS_T   \u001b[95m    ADAM    \u001b[95m    DRE     \u001b[0m\n",
      "\n",
      "Configuration 2\n",
      "\n",
      "\u001b[96m   AMBER    \u001b[96m  ASHLEIGH  \u001b[96m  BRITTANY  \u001b[96m  COLEYSIA  \u001b[96m    JACY    \u001b[96m  JESSICA   \u001b[96m   KAYLA    \u001b[96m   PAIGE    \u001b[96m  SHANLEY   \u001b[96m   SIMONE   \u001b[0m\n",
      "\u001b[95m   ETHAN    \u001b[95m    JOHN    \u001b[95m    JOEY    \u001b[95m   DILLAN   \u001b[95m  CHRIS_S   \u001b[95m    RYAN    \u001b[95m   WESLEY   \u001b[95m  CHRIS_T   \u001b[95m    ADAM    \u001b[95m    DRE     \u001b[0m\n",
      "\n",
      "... and 0 more of these\n",
      "\n",
      "Number of permutations left: 3\n"
     ]
    }
   ],
   "source": [
    "# The women are the indexes:         Amber   Ashleigh    Brittany     Coleysia     Jacy     Jessica     Kayla      Paige      Shanley    Simone\n",
    "matches = tuple([x.value for x in (Men.ETHAN, Men.ADAM, Men.CHRIS_S, Men.DILLAN, Men.JOHN, Men.RYAN, Men.WESLEY, Men.CHRIS_T, Men.DRE, Men.JOEY)])\n",
    "correct_match_count = 5\n",
    "\n",
    "men_perms = [p for p in men_perms if valid_perm(p, matches, correct_match_count)]\n",
    "\n",
    "print_probabilities(men_perms)\n",
    "print_configurations(men_perms, 3, False)\n",
    "perms_over_time.append(('MC6', len(men_perms)))\n",
    "print(f\"Number of permutations left: {len(men_perms)}\")"
   ]
  },
  {
   "cell_type": "markdown",
   "metadata": {},
   "source": [
    "### Episode 8 (Finale)\n",
    "#### Match Ceremony 7\n",
    "\n",
    "There's only 3 permutations left, and the contestants have 3 more attempts left to win the prize, so it's pretty clear they're going to succeed.\n"
   ]
  },
  {
   "cell_type": "code",
   "execution_count": 17,
   "metadata": {},
   "outputs": [
    {
     "name": "stdout",
     "output_type": "stream",
     "text": [
      "            \u001b[95m\u001b[1m    ADAM    \u001b[95m\u001b[1m  CHRIS_S   \u001b[95m\u001b[1m  CHRIS_T   \u001b[95m\u001b[1m   DILLAN   \u001b[95m\u001b[1m    DRE     \u001b[95m\u001b[1m   ETHAN    \u001b[95m\u001b[1m    JOEY    \u001b[95m\u001b[1m    JOHN    \u001b[95m\u001b[1m    RYAN    \u001b[95m\u001b[1m   WESLEY   \u001b[0m\n",
      "\u001b[96m\u001b[1m       AMBER\u001b[0m\u001b[91m     X      \u001b[0m\u001b[91m     X      \u001b[0m\u001b[91m     X      \u001b[0m\u001b[91m     X      \u001b[0m\u001b[91m     X      \u001b[0m\u001b[92m   MATCH    \u001b[0m\u001b[91m     X      \u001b[0m\u001b[91m     X      \u001b[0m\u001b[91m     X      \u001b[0m\u001b[91m     X      \u001b[0m\n",
      "\u001b[96m\u001b[1m    ASHLEIGH\u001b[0m\u001b[91m     X      \u001b[0m\u001b[91m     X      \u001b[0m\u001b[91m     X      \u001b[0m\u001b[91m     X      \u001b[0m\u001b[91m     X      \u001b[0m\u001b[91m     X      \u001b[0m\u001b[91m     X      \u001b[0m\u001b[92m   MATCH    \u001b[0m\u001b[91m     X      \u001b[0m\u001b[91m     X      \u001b[0m\n",
      "\u001b[96m\u001b[1m    BRITTANY\u001b[0m\u001b[91m     X      \u001b[0m\u001b[91m     X      \u001b[0m\u001b[91m     X      \u001b[0m\u001b[91m     X      \u001b[0m\u001b[91m     X      \u001b[0m\u001b[91m     X      \u001b[0m\u001b[92m   MATCH    \u001b[0m\u001b[91m     X      \u001b[0m\u001b[91m     X      \u001b[0m\u001b[91m     X      \u001b[0m\n",
      "\u001b[96m\u001b[1m    COLEYSIA\u001b[0m\u001b[91m     X      \u001b[0m\u001b[91m     X      \u001b[0m\u001b[91m     X      \u001b[0m\u001b[92m   MATCH    \u001b[0m\u001b[91m     X      \u001b[0m\u001b[91m     X      \u001b[0m\u001b[91m     X      \u001b[0m\u001b[91m     X      \u001b[0m\u001b[91m     X      \u001b[0m\u001b[91m     X      \u001b[0m\n",
      "\u001b[96m\u001b[1m        JACY\u001b[0m\u001b[91m     X      \u001b[0m\u001b[92m   MATCH    \u001b[0m\u001b[91m     X      \u001b[0m\u001b[91m     X      \u001b[0m\u001b[91m     X      \u001b[0m\u001b[91m     X      \u001b[0m\u001b[91m     X      \u001b[0m\u001b[91m     X      \u001b[0m\u001b[91m     X      \u001b[0m\u001b[91m     X      \u001b[0m\n",
      "\u001b[96m\u001b[1m     JESSICA\u001b[0m\u001b[91m     X      \u001b[0m\u001b[91m     X      \u001b[0m\u001b[91m     X      \u001b[0m\u001b[91m     X      \u001b[0m\u001b[91m     X      \u001b[0m\u001b[91m     X      \u001b[0m\u001b[91m     X      \u001b[0m\u001b[91m     X      \u001b[0m\u001b[92m   MATCH    \u001b[0m\u001b[91m     X      \u001b[0m\n",
      "\u001b[96m\u001b[1m       KAYLA\u001b[0m\u001b[91m     X      \u001b[0m\u001b[91m     X      \u001b[0m\u001b[91m     X      \u001b[0m\u001b[91m     X      \u001b[0m\u001b[91m     X      \u001b[0m\u001b[91m     X      \u001b[0m\u001b[91m     X      \u001b[0m\u001b[91m     X      \u001b[0m\u001b[91m     X      \u001b[0m\u001b[92m   MATCH    \u001b[0m\n",
      "\u001b[96m\u001b[1m       PAIGE\u001b[0m\u001b[91m     X      \u001b[0m\u001b[91m     X      \u001b[0m\u001b[92m   MATCH    \u001b[0m\u001b[91m     X      \u001b[0m\u001b[91m     X      \u001b[0m\u001b[91m     X      \u001b[0m\u001b[91m     X      \u001b[0m\u001b[91m     X      \u001b[0m\u001b[91m     X      \u001b[0m\u001b[91m     X      \u001b[0m\n",
      "\u001b[96m\u001b[1m     SHANLEY\u001b[0m\u001b[92m   MATCH    \u001b[0m\u001b[91m     X      \u001b[0m\u001b[91m     X      \u001b[0m\u001b[91m     X      \u001b[0m\u001b[91m     X      \u001b[0m\u001b[91m     X      \u001b[0m\u001b[91m     X      \u001b[0m\u001b[91m     X      \u001b[0m\u001b[91m     X      \u001b[0m\u001b[91m     X      \u001b[0m\n",
      "\u001b[96m\u001b[1m      SIMONE\u001b[0m\u001b[91m     X      \u001b[0m\u001b[91m     X      \u001b[0m\u001b[91m     X      \u001b[0m\u001b[91m     X      \u001b[0m\u001b[92m   MATCH    \u001b[0m\u001b[91m     X      \u001b[0m\u001b[91m     X      \u001b[0m\u001b[91m     X      \u001b[0m\u001b[91m     X      \u001b[0m\u001b[91m     X      \u001b[0m\n",
      "\n",
      "Number of permutations left: 1\n"
     ]
    }
   ],
   "source": [
    "# The women are the indexes:         Amber    Ashleigh   Brittany  Coleysia     Jacy        Jessica     Kayla      Paige      Shanley    Simone\n",
    "matches = tuple([x.value for x in (Men.ETHAN, Men.RYAN, Men.JOHN, Men.DILLAN, Men.CHRIS_S, Men.JOEY, Men.WESLEY, Men.CHRIS_T, Men.ADAM, Men.DRE)])\n",
    "correct_match_count = 7\n",
    "\n",
    "men_perms = [p for p in men_perms if valid_perm(p, matches, correct_match_count)]\n",
    "\n",
    "print_probabilities(men_perms)\n",
    "perms_over_time.append(('MC7', len(men_perms)))\n",
    "print(f\"Number of permutations left: {len(men_perms)}\")"
   ]
  },
  {
   "cell_type": "markdown",
   "metadata": {},
   "source": [
    "And indeed, they don't guess correctly (only 7/10), but it's enough to narrow down the number of permutations to 1, so they're easily able to secure the win."
   ]
  },
  {
   "cell_type": "markdown",
   "metadata": {},
   "source": [
    "## Analysis\n",
    "\n",
    "We've been keeping track of the number of permutations at each step of this process, so lets visualize them."
   ]
  },
  {
   "cell_type": "code",
   "execution_count": 18,
   "metadata": {},
   "outputs": [
    {
     "data": {
      "image/png": "[encoded data removed]",
      "text/plain": [
       "<Figure size 1080x360 with 2 Axes>"
      ]
     },
     "metadata": {},
     "output_type": "display_data"
    }
   ],
   "source": [
    "import matplotlib\n",
    "from matplotlib import pyplot as plt\n",
    "\n",
    "# Isn't read correctly from the matplotlibrc, so need to manually set\n",
    "matplotlib.rcParams[\"figure.facecolor\"] = '#292d3e'\n",
    "\n",
    "# Plotting!\n",
    "plt.figure(figsize=(15, 5))\n",
    "plt.suptitle('Permutations over Time ')\n",
    "plt.subplot(121)\n",
    "plt.plot([x[0] for x in perms_over_time], [x[1] for x in perms_over_time])\n",
    "plt.gca().set_title('(Linear scale)')\n",
    "plt.subplot(122)\n",
    "plt.plot([x[0] for x in perms_over_time], [x[1] for x in perms_over_time])\n",
    "plt.gca().set_title('(Log scale)')\n",
    "plt.yscale('log') \n",
    "\n",
    "plt.show()"
   ]
  },
  {
   "cell_type": "markdown",
   "metadata": {},
   "source": [
    "As you can see, the [first Match Ceremony](#Match-Ceremony-1) dropped the number of permutations by around 2.5 million, by far the largest decrease in the entire season."
   ]
  }
 ],
 "metadata": {
  "kernelspec": {
   "display_name": "Python 3",
   "language": "python",
   "name": "python3"
  },
  "language_info": {
   "codemirror_mode": {
    "name": "ipython",
    "version": 3
   },
   "file_extension": ".py",
   "mimetype": "text/x-python",
   "name": "python",
   "nbconvert_exporter": "python",
   "pygments_lexer": "ipython3",
   "version": "3.8.5"
  }
 },
 "nbformat": 4,
 "nbformat_minor": 4
}
