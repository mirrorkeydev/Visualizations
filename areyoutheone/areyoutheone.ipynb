{
 "metadata": {
  "language_info": {
   "codemirror_mode": {
    "name": "ipython",
    "version": 3
   },
   "file_extension": ".py",
   "mimetype": "text/x-python",
   "name": "python",
   "nbconvert_exporter": "python",
   "pygments_lexer": "ipython3",
   "version": "3.9.0-final"
  },
  "orig_nbformat": 2,
  "kernelspec": {
   "name": "python3",
   "display_name": "Python 3",
   "language": "python"
  }
 },
 "nbformat": 4,
 "nbformat_minor": 2,
 "cells": [
  {
   "source": [
    "## Motivation\n",
    "_Are You the One?_ (AYTO) is an American reality TV series on MTV. The premise is simple: put 20 people in a house, and tell them if they can correctly figure out all pairs that are \"perfect matches\" (determined beforehand by the producers and a matchmaking algorithm), they all split a prize of $1 million.\n",
    "\n",
    "There are two mechanisms by which the contestants can empirically narrow down their search every week:\n",
    "\n",
    "1. Sending 1 couple to the \"Truth Booth\", which will reveal whether that couple is or isn't a \"perfect match\"\n",
    "2. Sending 10 couples to the \"Matching Ceremony\", which will reveal the number of couples presented that are perfect matches, but not which ones were correct\n",
    "\n",
    "The first season of this show (originally aired 2014), was just put on Netflix, and I (an avid enjoyer of trash TV) noticed that the probability of a given couple being a match could be calculated using some simple ~~statistics~~ simulations. Of course, since those episodes are over 6 years old at this point, someone (Alex Wang), already did this, and has a [blog](http://areuthe.blogspot.com/) in which he's analyzed all 8 seasons.\n",
    "\n",
    "Admittedly, I don't have the strongest (read: any) knowledge of statistics or simulations, so I didn't completely follow how Alex was generating these probability matrixes. After some initial help from a [friend](https://github.com/prototypicalpro) in understanding the needed approach, I thought it would be fun to deconstruct exactly how to generate the probabilities of each couple as the first season of AYTO progresses.\n",
    "\n",
    "## Framework\n",
    "\n",
    "In season 1, the house is comprised of 10 men and 10 women, each of which are part of exactly one hetero \"perfect match\". Lets initialize our values, and assign names to help visualize what's going on."
   ],
   "cell_type": "markdown",
   "metadata": {}
  },
  {
   "cell_type": "code",
   "execution_count": 71,
   "metadata": {},
   "outputs": [
    {
     "output_type": "stream",
     "name": "stdout",
     "text": [
      "The number of possible match permutations is: 3628800\n"
     ]
    }
   ],
   "source": [
    "import itertools\n",
    "from enum import Enum\n",
    "import math\n",
    "\n",
    "GROUP_COUNT = 10 # Number of people in each group\n",
    "\n",
    "class Men(Enum):\n",
    "    ADAM = 0\n",
    "    CHRIS_S = 1\n",
    "    CHRIS_T = 2\n",
    "    DILLAN = 3\n",
    "    DRE = 4\n",
    "    ETHAN = 5\n",
    "    JOEY = 6\n",
    "    JOHN = 7\n",
    "    RYAN = 8\n",
    "    WESLEY = 9\n",
    "\n",
    "class Women(Enum):\n",
    "    AMBER = 0\n",
    "    ASHLEIGH = 1\n",
    "    BRITTANY = 2\n",
    "    COLEYSIA = 3\n",
    "    JACY = 4\n",
    "    JESSICA = 5\n",
    "    KAYLA = 6\n",
    "    PAIGE = 7\n",
    "    SHANLEY = 8\n",
    "    SIMONE = 9\n",
    "\n",
    "print(\"The number of possible match permutations is: {}\".format(math.factorial(GROUP_COUNT)))"
   ]
  },
  {
   "source": [
    "There are over 3 million different ways that the set of 10 couples could be formed. Here's a random sample of a few of those:"
   ],
   "cell_type": "markdown",
   "metadata": {}
  },
  {
   "cell_type": "code",
   "execution_count": 72,
   "metadata": {},
   "outputs": [
    {
     "output_type": "stream",
     "name": "stdout",
     "text": [
      "Configuration 0\n\n\u001b[96m   AMBER    \u001b[96m  ASHLEIGH  \u001b[96m  BRITTANY  \u001b[96m  COLEYSIA  \u001b[96m    JACY    \u001b[96m  JESSICA   \u001b[96m   KAYLA    \u001b[96m   PAIGE    \u001b[96m  SHANLEY   \u001b[96m   SIMONE   \u001b[0m\n\u001b[92m    ADAM    \u001b[92m  CHRIS_S   \u001b[92m   WESLEY   \u001b[92m    DRE     \u001b[92m    JOEY    \u001b[92m   DILLAN   \u001b[92m   ETHAN    \u001b[92m    RYAN    \u001b[92m    JOHN    \u001b[92m  CHRIS_T   \u001b[0m\n\nConfiguration 1\n\n\u001b[96m   AMBER    \u001b[96m  ASHLEIGH  \u001b[96m  BRITTANY  \u001b[96m  COLEYSIA  \u001b[96m    JACY    \u001b[96m  JESSICA   \u001b[96m   KAYLA    \u001b[96m   PAIGE    \u001b[96m  SHANLEY   \u001b[96m   SIMONE   \u001b[0m\n\u001b[92m    JOEY    \u001b[92m    DRE     \u001b[92m    JOHN    \u001b[92m    RYAN    \u001b[92m  CHRIS_S   \u001b[92m   DILLAN   \u001b[92m    ADAM    \u001b[92m   ETHAN    \u001b[92m  CHRIS_T   \u001b[92m   WESLEY   \u001b[0m\n\nConfiguration 2\n\n\u001b[96m   AMBER    \u001b[96m  ASHLEIGH  \u001b[96m  BRITTANY  \u001b[96m  COLEYSIA  \u001b[96m    JACY    \u001b[96m  JESSICA   \u001b[96m   KAYLA    \u001b[96m   PAIGE    \u001b[96m  SHANLEY   \u001b[96m   SIMONE   \u001b[0m\n\u001b[92m   WESLEY   \u001b[92m   ETHAN    \u001b[92m    RYAN    \u001b[92m    ADAM    \u001b[92m    JOHN    \u001b[92m    DRE     \u001b[92m  CHRIS_T   \u001b[92m   DILLAN   \u001b[92m    JOEY    \u001b[92m  CHRIS_S   \u001b[0m\n\n... and 3628797 more of these\n\n"
     ]
    }
   ],
   "source": [
    "import random\n",
    "\n",
    "men_perms = list(itertools.permutations(range(GROUP_COUNT)))\n",
    "\n",
    "def print_configurations(perms, rows):\n",
    "    num_perms = len(perms)\n",
    "    for i in range(rows):\n",
    "        print(\"Configuration\", i, end=\"\\n\\n\")\n",
    "        for w in Women:\n",
    "            print(\"\\033[96m\" + w.name.center(12), end=\"\")\n",
    "        print(\"\\033[0m\")\n",
    "\n",
    "        perm = men_perms[random.randint(0, len(perms)-1)]\n",
    "        for m in perm:\n",
    "            print(\"\\033[92m\" + Men(m).name.center(12), end=\"\")\n",
    "        print(\"\\033[0m\\n\")\n",
    "    print(\"... and {} more of these\\n\".format(num_perms-rows))\n",
    "    return num_perms\n",
    "\n",
    "num = print_configurations(men_perms, 3)"
   ]
  },
  {
   "source": [
    "Notice above that the women (cyan) never change position in the list, only the men (green) are permutated. (We arbitrarily chose the men to be permuted rather than the women. If you permutated both the men and women and joined them all, you'd end up with duplicates.) This is important because it means that in our code, we can essentially only worry about permutations of men, because if a man is at a certain index, it means that he is paired with the woman associated with that index.\n",
    "\n",
    "Now, we can start applying the conditions revealed in each episode.\n",
    "\n",
    "## Episode 1\n",
    "\n",
    "### Truth Booth 1\n",
    "\n",
    "In this episode, Shanley and Chris T. are sent to the truth booth and are revealed to not be a match.\n",
    "This means that we can narrow down all permutations of the couples configurations to only contain permutations that don't have Shanley and Chris T matched together.\n"
   ],
   "cell_type": "markdown",
   "metadata": {}
  },
  {
   "cell_type": "code",
   "execution_count": 73,
   "metadata": {},
   "outputs": [
    {
     "output_type": "stream",
     "name": "stdout",
     "text": [
      "Configuration 0\n\n\u001b[96m   AMBER    \u001b[96m  ASHLEIGH  \u001b[96m  BRITTANY  \u001b[96m  COLEYSIA  \u001b[96m    JACY    \u001b[96m  JESSICA   \u001b[96m   KAYLA    \u001b[96m   PAIGE    \u001b[96m  SHANLEY   \u001b[96m   SIMONE   \u001b[0m\n\u001b[92m  CHRIS_S   \u001b[92m   ETHAN    \u001b[92m    DRE     \u001b[92m    JOEY    \u001b[92m    ADAM    \u001b[92m   WESLEY   \u001b[92m   DILLAN   \u001b[92m    JOHN    \u001b[92m    RYAN    \u001b[92m  CHRIS_T   \u001b[0m\n\nConfiguration 1\n\n\u001b[96m   AMBER    \u001b[96m  ASHLEIGH  \u001b[96m  BRITTANY  \u001b[96m  COLEYSIA  \u001b[96m    JACY    \u001b[96m  JESSICA   \u001b[96m   KAYLA    \u001b[96m   PAIGE    \u001b[96m  SHANLEY   \u001b[96m   SIMONE   \u001b[0m\n\u001b[92m   DILLAN   \u001b[92m    ADAM    \u001b[92m   ETHAN    \u001b[92m  CHRIS_T   \u001b[92m    JOHN    \u001b[92m   WESLEY   \u001b[92m    RYAN    \u001b[92m    JOEY    \u001b[92m    DRE     \u001b[92m  CHRIS_S   \u001b[0m\n\nConfiguration 2\n\n\u001b[96m   AMBER    \u001b[96m  ASHLEIGH  \u001b[96m  BRITTANY  \u001b[96m  COLEYSIA  \u001b[96m    JACY    \u001b[96m  JESSICA   \u001b[96m   KAYLA    \u001b[96m   PAIGE    \u001b[96m  SHANLEY   \u001b[96m   SIMONE   \u001b[0m\n\u001b[92m   ETHAN    \u001b[92m   WESLEY   \u001b[92m  CHRIS_S   \u001b[92m  CHRIS_T   \u001b[92m   DILLAN   \u001b[92m    RYAN    \u001b[92m    JOHN    \u001b[92m    ADAM    \u001b[92m    DRE     \u001b[92m    JOEY    \u001b[0m\n\n... and 3265917 more of these\n\nThe above permutations don't contain Shanley matched with Chris T.\nWe've narrowed down the number of permutations from 3628800 to 3265920, a reduction of 362880 or 11.1%\n"
     ]
    }
   ],
   "source": [
    "# As explained above, women are represented by the index in each permutation array.\n",
    "men_perms = [p for p in men_perms if p[Women.SHANLEY.value] != Men.CHRIS_T.value]\n",
    "\n",
    "new_num = print_configurations(men_perms, 3)\n",
    "\n",
    "print(\"The above permutations don't contain Shanley matched with Chris T.\")\n",
    "print(\"We've narrowed down the number of permutations from {} to {}, a reduction of {} or {:.1f}%\".format(num, new_num, num-new_num, (num-new_num)/(new_num)*100))\n",
    "\n"
   ]
  },
  {
   "source": [
    "So how do we calculate the probability of each couple being a perfect match at this point? We simply count how many permutations are left that contain each couple, and then divide each sum by the amount of total permutations."
   ],
   "cell_type": "markdown",
   "metadata": {}
  },
  {
   "source": [
    "\n",
    "def calculate_probabilities(perms):\n",
    "    pair_sum = [[0 for i in range(GROUP_COUNT)] for j in range(GROUP_COUNT)] # a zeroed two dimensional array\n",
    "\n",
    "    # Do the counting\n",
    "    for perm in perms:\n",
    "        for woman, man in enumerate(perm):\n",
    "            pair_sum[woman][man] += 1\n",
    "\n",
    "    return [[pair / sum(pairs) for pair in pairs] for pairs in pair_sum]\n",
    "\n",
    "def print_probabilities(perms):\n",
    "    probabilities = calculate_probabilities(perms)\n",
    "    print(\"\".center(12), end='')\n",
    "    for m in Men:\n",
    "        print(\"\\033[92m\" + f'{m.name}'.center(12), end='')\n",
    "    print(\"\\033[0m\")\n",
    "    for woman, prob_row in enumerate(probabilities):\n",
    "        print('\\033[96m' + f'{Women(woman).name}'.rjust(12) + '\\033[0m', end='')\n",
    "        for prob_val in prob_row:\n",
    "            if not prob_val:\n",
    "                print(\"\\033[91m\" + 'X'.center(12) + \"\\033[0m\", end='')\n",
    "            else:\n",
    "                print(\"\\033[0m\" + f'{prob_val*100:2.1f}%'.center(12) + \"\\033[0m\", end='')\n",
    "        print()\n",
    "    print()\n",
    "\n",
    "print_probabilities(men_perms)\n"
   ],
   "cell_type": "code",
   "metadata": {},
   "execution_count": 132,
   "outputs": [
    {
     "output_type": "stream",
     "name": "stdout",
     "text": [
      "            \u001b[92m    ADAM    \u001b[92m  CHRIS_S   \u001b[92m  CHRIS_T   \u001b[92m   DILLAN   \u001b[92m    DRE     \u001b[92m   ETHAN    \u001b[92m    JOEY    \u001b[92m    JOHN    \u001b[92m    RYAN    \u001b[92m   WESLEY   \u001b[0m\n\u001b[96m       AMBER\u001b[0m\u001b[0m    8.9%    \u001b[0m\u001b[0m    8.9%    \u001b[0m\u001b[0m    9.8%    \u001b[0m\u001b[0m    8.9%    \u001b[0m\u001b[0m    8.9%    \u001b[0m\u001b[0m    8.7%    \u001b[0m\u001b[0m    8.9%    \u001b[0m\u001b[0m    8.9%    \u001b[0m\u001b[0m   19.5%    \u001b[0m\u001b[0m    8.9%    \u001b[0m\n\u001b[96m    ASHLEIGH\u001b[0m\u001b[0m    8.9%    \u001b[0m\u001b[0m   19.5%    \u001b[0m\u001b[0m    9.8%    \u001b[0m\u001b[0m    8.9%    \u001b[0m\u001b[0m    8.9%    \u001b[0m\u001b[0m    8.7%    \u001b[0m\u001b[0m    8.9%    \u001b[0m\u001b[0m    8.9%    \u001b[0m\u001b[0m    8.9%    \u001b[0m\u001b[0m    8.9%    \u001b[0m\n\u001b[96m    BRITTANY\u001b[0m\u001b[0m   19.5%    \u001b[0m\u001b[0m    8.9%    \u001b[0m\u001b[0m    9.8%    \u001b[0m\u001b[0m    8.9%    \u001b[0m\u001b[0m    8.9%    \u001b[0m\u001b[0m    8.7%    \u001b[0m\u001b[0m    8.9%    \u001b[0m\u001b[0m    8.9%    \u001b[0m\u001b[0m    8.9%    \u001b[0m\u001b[0m    8.9%    \u001b[0m\n\u001b[96m    COLEYSIA\u001b[0m\u001b[0m    8.9%    \u001b[0m\u001b[0m    8.9%    \u001b[0m\u001b[0m    9.8%    \u001b[0m\u001b[0m   19.5%    \u001b[0m\u001b[0m    8.9%    \u001b[0m\u001b[0m    8.7%    \u001b[0m\u001b[0m    8.9%    \u001b[0m\u001b[0m    8.9%    \u001b[0m\u001b[0m    8.9%    \u001b[0m\u001b[0m    8.9%    \u001b[0m\n\u001b[96m        JACY\u001b[0m\u001b[0m    8.9%    \u001b[0m\u001b[0m    8.9%    \u001b[0m\u001b[0m    9.8%    \u001b[0m\u001b[0m    8.9%    \u001b[0m\u001b[0m   19.5%    \u001b[0m\u001b[0m    8.7%    \u001b[0m\u001b[0m    8.9%    \u001b[0m\u001b[0m    8.9%    \u001b[0m\u001b[0m    8.9%    \u001b[0m\u001b[0m    8.9%    \u001b[0m\n\u001b[96m     JESSICA\u001b[0m\u001b[0m    8.7%    \u001b[0m\u001b[0m    8.7%    \u001b[0m\u001b[0m   22.0%    \u001b[0m\u001b[0m    8.7%    \u001b[0m\u001b[0m    8.7%    \u001b[0m\u001b[0m    8.5%    \u001b[0m\u001b[0m    8.7%    \u001b[0m\u001b[0m    8.7%    \u001b[0m\u001b[0m    8.7%    \u001b[0m\u001b[0m    8.7%    \u001b[0m\n\u001b[96m       KAYLA\u001b[0m\u001b[0m    8.9%    \u001b[0m\u001b[0m    8.9%    \u001b[0m\u001b[0m    9.8%    \u001b[0m\u001b[0m    8.9%    \u001b[0m\u001b[0m    8.9%    \u001b[0m\u001b[0m    8.7%    \u001b[0m\u001b[0m    8.9%    \u001b[0m\u001b[0m    8.9%    \u001b[0m\u001b[0m    8.9%    \u001b[0m\u001b[0m   19.5%    \u001b[0m\n\u001b[96m       PAIGE\u001b[0m\u001b[0m    8.9%    \u001b[0m\u001b[0m    8.9%    \u001b[0m\u001b[0m    9.8%    \u001b[0m\u001b[0m    8.9%    \u001b[0m\u001b[0m    8.9%    \u001b[0m\u001b[0m    8.7%    \u001b[0m\u001b[0m   19.5%    \u001b[0m\u001b[0m    8.9%    \u001b[0m\u001b[0m    8.9%    \u001b[0m\u001b[0m    8.9%    \u001b[0m\n\u001b[96m     SHANLEY\u001b[0m\u001b[0m    9.8%    \u001b[0m\u001b[0m    9.8%    \u001b[0m\u001b[91m     X      \u001b[0m\u001b[0m    9.8%    \u001b[0m\u001b[0m    9.8%    \u001b[0m\u001b[0m   22.0%    \u001b[0m\u001b[0m    9.8%    \u001b[0m\u001b[0m    9.8%    \u001b[0m\u001b[0m    9.8%    \u001b[0m\u001b[0m    9.8%    \u001b[0m\n\u001b[96m      SIMONE\u001b[0m\u001b[0m    8.9%    \u001b[0m\u001b[0m    8.9%    \u001b[0m\u001b[0m    9.8%    \u001b[0m\u001b[0m    8.9%    \u001b[0m\u001b[0m    8.9%    \u001b[0m\u001b[0m    8.7%    \u001b[0m\u001b[0m    8.9%    \u001b[0m\u001b[0m   19.5%    \u001b[0m\u001b[0m    8.9%    \u001b[0m\u001b[0m    8.9%    \u001b[0m\n\n"
     ]
    }
   ]
  },
  {
   "source": [
    "Pretty! Shanley and Chris T. now have a slightly greater probability (relatively speaking) to be paired with anyone other than each other.\n",
    "\n",
    "### Match Ceremony\n",
    "\n",
    "At the end of the week, a Match Ceremony occurs. At this point, all the contestants know is that it's not Shanley and Chris T., so they pair up pretty randomly.\n",
    "\n",
    "| Men       | Women    |\n",
    "|-----------|----------|\n",
    "| Wesley    | Kayla    |\n",
    "| Ethan     | Shanley  |\n",
    "| Adam      | Brittany |\n",
    "| Dre       | Jacy     |\n",
    "| John      | Simone   |\n",
    "| Christ T. | Jessica  |\n",
    "| Joey      | Paige    |\n",
    "| Chris S.  | Ashleigh |\n",
    "| Ryan      | Amber    |\n",
    "| Dillan    | Coleysia |\n",
    "\n",
    "The Match Ceremony reveals that two of these couples are correct. So how does that affect the probability of our couples?\n",
    "\n",
    "Now, to narrow down our list of permutations, we want to only select permutations where there are exactly 2 couples in it that are the same as in the Match Ceremony."
   ],
   "cell_type": "markdown",
   "metadata": {}
  },
  {
   "cell_type": "code",
   "execution_count": 134,
   "metadata": {},
   "outputs": [
    {
     "output_type": "stream",
     "name": "stdout",
     "text": [
      "            \u001b[92m    ADAM    \u001b[92m  CHRIS_S   \u001b[92m  CHRIS_T   \u001b[92m   DILLAN   \u001b[92m    DRE     \u001b[92m   ETHAN    \u001b[92m    JOEY    \u001b[92m    JOHN    \u001b[92m    RYAN    \u001b[92m   WESLEY   \u001b[0m\n\u001b[96m       AMBER\u001b[0m\u001b[0m    8.9%    \u001b[0m\u001b[0m    8.9%    \u001b[0m\u001b[0m    9.8%    \u001b[0m\u001b[0m    8.9%    \u001b[0m\u001b[0m    8.9%    \u001b[0m\u001b[0m    8.7%    \u001b[0m\u001b[0m    8.9%    \u001b[0m\u001b[0m    8.9%    \u001b[0m\u001b[0m   19.5%    \u001b[0m\u001b[0m    8.9%    \u001b[0m\n\u001b[96m    ASHLEIGH\u001b[0m\u001b[0m    8.9%    \u001b[0m\u001b[0m   19.5%    \u001b[0m\u001b[0m    9.8%    \u001b[0m\u001b[0m    8.9%    \u001b[0m\u001b[0m    8.9%    \u001b[0m\u001b[0m    8.7%    \u001b[0m\u001b[0m    8.9%    \u001b[0m\u001b[0m    8.9%    \u001b[0m\u001b[0m    8.9%    \u001b[0m\u001b[0m    8.9%    \u001b[0m\n\u001b[96m    BRITTANY\u001b[0m\u001b[0m   19.5%    \u001b[0m\u001b[0m    8.9%    \u001b[0m\u001b[0m    9.8%    \u001b[0m\u001b[0m    8.9%    \u001b[0m\u001b[0m    8.9%    \u001b[0m\u001b[0m    8.7%    \u001b[0m\u001b[0m    8.9%    \u001b[0m\u001b[0m    8.9%    \u001b[0m\u001b[0m    8.9%    \u001b[0m\u001b[0m    8.9%    \u001b[0m\n\u001b[96m    COLEYSIA\u001b[0m\u001b[0m    8.9%    \u001b[0m\u001b[0m    8.9%    \u001b[0m\u001b[0m    9.8%    \u001b[0m\u001b[0m   19.5%    \u001b[0m\u001b[0m    8.9%    \u001b[0m\u001b[0m    8.7%    \u001b[0m\u001b[0m    8.9%    \u001b[0m\u001b[0m    8.9%    \u001b[0m\u001b[0m    8.9%    \u001b[0m\u001b[0m    8.9%    \u001b[0m\n\u001b[96m        JACY\u001b[0m\u001b[0m    8.9%    \u001b[0m\u001b[0m    8.9%    \u001b[0m\u001b[0m    9.8%    \u001b[0m\u001b[0m    8.9%    \u001b[0m\u001b[0m   19.5%    \u001b[0m\u001b[0m    8.7%    \u001b[0m\u001b[0m    8.9%    \u001b[0m\u001b[0m    8.9%    \u001b[0m\u001b[0m    8.9%    \u001b[0m\u001b[0m    8.9%    \u001b[0m\n\u001b[96m     JESSICA\u001b[0m\u001b[0m    8.7%    \u001b[0m\u001b[0m    8.7%    \u001b[0m\u001b[0m   22.0%    \u001b[0m\u001b[0m    8.7%    \u001b[0m\u001b[0m    8.7%    \u001b[0m\u001b[0m    8.5%    \u001b[0m\u001b[0m    8.7%    \u001b[0m\u001b[0m    8.7%    \u001b[0m\u001b[0m    8.7%    \u001b[0m\u001b[0m    8.7%    \u001b[0m\n\u001b[96m       KAYLA\u001b[0m\u001b[0m    8.9%    \u001b[0m\u001b[0m    8.9%    \u001b[0m\u001b[0m    9.8%    \u001b[0m\u001b[0m    8.9%    \u001b[0m\u001b[0m    8.9%    \u001b[0m\u001b[0m    8.7%    \u001b[0m\u001b[0m    8.9%    \u001b[0m\u001b[0m    8.9%    \u001b[0m\u001b[0m    8.9%    \u001b[0m\u001b[0m   19.5%    \u001b[0m\n\u001b[96m       PAIGE\u001b[0m\u001b[0m    8.9%    \u001b[0m\u001b[0m    8.9%    \u001b[0m\u001b[0m    9.8%    \u001b[0m\u001b[0m    8.9%    \u001b[0m\u001b[0m    8.9%    \u001b[0m\u001b[0m    8.7%    \u001b[0m\u001b[0m   19.5%    \u001b[0m\u001b[0m    8.9%    \u001b[0m\u001b[0m    8.9%    \u001b[0m\u001b[0m    8.9%    \u001b[0m\n\u001b[96m     SHANLEY\u001b[0m\u001b[0m    9.8%    \u001b[0m\u001b[0m    9.8%    \u001b[0m\u001b[91m     X      \u001b[0m\u001b[0m    9.8%    \u001b[0m\u001b[0m    9.8%    \u001b[0m\u001b[0m   22.0%    \u001b[0m\u001b[0m    9.8%    \u001b[0m\u001b[0m    9.8%    \u001b[0m\u001b[0m    9.8%    \u001b[0m\u001b[0m    9.8%    \u001b[0m\n\u001b[96m      SIMONE\u001b[0m\u001b[0m    8.9%    \u001b[0m\u001b[0m    8.9%    \u001b[0m\u001b[0m    9.8%    \u001b[0m\u001b[0m    8.9%    \u001b[0m\u001b[0m    8.9%    \u001b[0m\u001b[0m    8.7%    \u001b[0m\u001b[0m    8.9%    \u001b[0m\u001b[0m   19.5%    \u001b[0m\u001b[0m    8.9%    \u001b[0m\u001b[0m    8.9%    \u001b[0m\n\nWe've narrowed down the number of permutations from 3265920 to 608153, a reduction of 2657767 or 437.0%\n"
     ]
    }
   ],
   "source": [
    "# Determines if a given permutation has exactly match_count couples in it\n",
    "# from the matching ceremony.\n",
    "def valid_perm(perm, matches, match_count):   \n",
    "    for permMan, matchMan in zip(perm, matches):\n",
    "        if permMan == matchMan:\n",
    "            match_count -= 1\n",
    "            if match_count < 0:\n",
    "                return False\n",
    "    return match_count == 0\n",
    "\n",
    "# The women are the indexes:         Amber     Ashleigh    Brittany  Colleysia   Jacy     Jessica       Kayla      Paige     Shanley    Simone\n",
    "matches = tuple([x.value for x in (Men.RYAN, Men.CHRIS_S, Men.ADAM, Men.DILLAN, Men.DRE, Men.CHRIS_T, Men.WESLEY, Men.JOEY, Men.ETHAN, Men.JOHN)])\n",
    "correct_match_count = 2\n",
    "\n",
    "men_perms = [p for p in men_perms if valid_perm(p, matches, correct_match_count)]\n",
    "\n",
    "print_probabilities(men_perms)\n",
    "print(\"We've narrowed down the number of permutations from {} to {}, a reduction of {} or {:.1f}%\".format(new_num, len(men_perms), new_num-len(men_perms), (new_num-len(men_perms))/(len(men_perms))*100))\n"
   ]
  },
  {
   "source": [
    "From this, we can see the probabilities for a couple of different couples have increased, with Chris T. and Jessica now having a probability of 22.0%."
   ],
   "cell_type": "markdown",
   "metadata": {}
  }
 ]
}